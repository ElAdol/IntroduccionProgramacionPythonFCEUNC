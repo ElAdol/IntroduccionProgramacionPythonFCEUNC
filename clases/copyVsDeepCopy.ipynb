{
 "cells": [
  {
   "cell_type": "markdown",
   "metadata": {},
   "source": [
    "## ¡Para un mejor seguimiento de la clase, es recomendable abrirla desde Colab, siguiendo el botón de abajo!\n",
    "\n",
    "<a href=\"https://colab.research.google.com/github/martinezarraigadamaria/IntroduccionProgramacionPythonFCEUNC/blob/master/clases/copyVsDeepCopy.ipynb\" target=\"_parent\"><img src=\"https://colab.research.google.com/assets/colab-badge.svg\" alt=\"Open In Colab\"/></a>"
   ]
  },
  {
   "cell_type": "markdown",
   "metadata": {},
   "source": [
    "## Copia Superficial vs. Copia  Profunda \n",
    "\n",
    "---\n",
    "\n",
    "> Elementos mutables e inmutables.\n",
    "\n",
    "> Identificador, Copy, Deepcopy."
   ]
  },
  {
   "cell_type": "code",
   "execution_count": null,
   "metadata": {},
   "outputs": [],
   "source": [
    "from copy import copy, deepcopy"
   ]
  },
  {
   "cell_type": "markdown",
   "metadata": {},
   "source": [
    "## Inmutables"
   ]
  },
  {
   "cell_type": "markdown",
   "metadata": {},
   "source": [
    "Los inmutables son los más sencillos de utilizar en programación (suelen ser los tipos simples de datos: String, Integer, Boolean, etc.) pues hacen exactamente lo que se espera que hagan en cada momento, y paradójicamente para funcionar así son los que más castigan a la memoria (no están optimizados para ocupar menos memoria al copiarse, y degradan más la vida útil de la memoria al escribirse más veces).\n",
    "\n",
    "- Strings (Texto)\n",
    "- Números (enteros y flotantes) \n",
    "- Complejos\n",
    "- Booleano\n",
    "- Tuplas\n",
    "- Etc..."
   ]
  },
  {
   "cell_type": "markdown",
   "metadata": {},
   "source": [
    "## Mutables "
   ]
  },
  {
   "cell_type": "markdown",
   "metadata": {},
   "source": [
    "Los mutables son objetos que, una vez creados, su estado puede cambiar en el futuro.\n",
    "\n",
    "Los mutables son los más “complejos” de utilizar en programación (suelen ser las estructuras de datos como: dict, list, etc) y no solo porque son más complejos porque son estructuras que tienen cosas, sino que suelen liar con el tema de los punteros y, paradójicamente, son los que menos perjudican a la memoria (se escriben una sola vez y se reutilizan siempre). Hay que decir que los mutables están diseñados así aposta, porque copiar una estructura de datos entera (aunque se puede) tardaría mucho e implicaría utilizar mucha memoria para seguramente no aprovechar la copia (no es lo mismo copiar un objeto String que copiar una lista con millones de objetos String, para luego no haber necesitado la copia; llega a ser un derroche de procesador y de memoria).\n",
    "\n",
    "- Listas\n",
    "- Diccionarios\n",
    "- Conjuntos\n",
    "- Etc..."
   ]
  },
  {
   "cell_type": "markdown",
   "metadata": {},
   "source": [
    "Para más información sobre objetos mutables e inmutables ver [link](https://jarroba.com/mutables-e-inmutables/)."
   ]
  },
  {
   "cell_type": "markdown",
   "metadata": {},
   "source": [
    "**En Python para los tipos de datos inmutables solamente se usan asignaciones y para los tipos de datos mutables además se utiliza la copia superficial y la copia profunda.**"
   ]
  },
  {
   "cell_type": "markdown",
   "metadata": {},
   "source": [
    "**Asignación**\n",
    "\n",
    "Las variables en Python no guardan directamente valores ni objetos sino referencias a estos. Por lo que cuando se hace una asignación no se están copiando esos valores."
   ]
  },
  {
   "cell_type": "markdown",
   "metadata": {},
   "source": [
    "La función **`id()`** recibe como argumento un objeto y retorna otro objeto que sirve como identificador único para el primero. Qué tipo de objeto es el retornado y de qué forma identifica al objeto pasado como argumento depende de la implementación de Python. En CPython (la implementación oficial del lenguaje) el valor retornado es un entero que indica la dirección de memoria en la que está almacenado el objeto."
   ]
  },
  {
   "cell_type": "markdown",
   "metadata": {},
   "source": [
    "Valores inmutables"
   ]
  },
  {
   "cell_type": "code",
   "execution_count": null,
   "metadata": {},
   "outputs": [],
   "source": [
    "x = 5\n",
    "y = x \n",
    "print(\"x =\", x, \"y =\", y)\n",
    "print(\"El identificador de x es\", id(x))\n",
    "print(\"El identificador de y es\", id(y))"
   ]
  },
  {
   "cell_type": "code",
   "execution_count": null,
   "metadata": {},
   "outputs": [],
   "source": [
    "x += 1\n",
    "print(\"x =\", x, \"y =\", y)\n",
    "print(\"El identificador de x es\", id(x))\n",
    "print(\"El identificador de y es\", id(y))"
   ]
  },
  {
   "cell_type": "markdown",
   "metadata": {},
   "source": [
    "En esta salida se puede ver que en el caso de los valores inmutables, Python manipula las referencias y no los valores."
   ]
  },
  {
   "cell_type": "markdown",
   "metadata": {},
   "source": [
    "Valores mutables"
   ]
  },
  {
   "cell_type": "code",
   "execution_count": null,
   "metadata": {},
   "outputs": [],
   "source": [
    "x = ['a', 'b']\n",
    "y = x # No copiamos el valor de x en y.\n",
    "\n",
    "print(\"x =\", x, \"y =\", y)\n",
    "print(\"El identificador de x es\", id(x))\n",
    "print(\"El identificador de y es\", id(y))"
   ]
  },
  {
   "cell_type": "code",
   "execution_count": null,
   "metadata": {},
   "outputs": [],
   "source": [
    "x[0] = 1\n",
    "print(\"x =\", x, \"y =\", y)\n",
    "print(\"El identificador de x es\", id(x))\n",
    "print(\"El identificador de y es\", id(y))"
   ]
  },
  {
   "cell_type": "markdown",
   "metadata": {},
   "source": [
    "**Copia superficial y copia profunda**\n",
    "\n",
    "En la copia superficial solamente se copian las referencias a los elementos contenidos en el objeto. Mientras que en la copia profunda, si el objeto contiene subobjetos estos se copian recursivamente."
   ]
  },
  {
   "cell_type": "code",
   "execution_count": null,
   "metadata": {},
   "outputs": [],
   "source": [
    "lista = [[1, 2], [3, 4]]\n",
    "\n",
    "lista_asignacion = lista\n",
    "lista_copia = copy(lista)\n",
    "lista_copia_profunda = deepcopy(lista)\n",
    "\n",
    "print(\"lista: \", lista)\n",
    "print(\"lista_asignacion: \", lista_asignacion)"
   ]
  },
  {
   "cell_type": "code",
   "execution_count": null,
   "metadata": {},
   "outputs": [],
   "source": [
    "print(\"id de lista =\", id(lista), \"--->\", lista)\n",
    "print(\"id de lista_asignacion =\", id(lista_asignacion), \"--->\", lista_asignacion)\n",
    "print(\"id de lista_copia =\", id(lista_copia), \"--->\", lista_copia)\n",
    "print(\"id de lista_copia_profunda =\", id(lista_copia_profunda), \"--->\", lista_copia_profunda)"
   ]
  },
  {
   "cell_type": "code",
   "execution_count": null,
   "metadata": {},
   "outputs": [],
   "source": [
    "print(\"id de lista[0] =\", id(lista[0]), \"--->\", lista[0])\n",
    "print(\"id de lista_asignacion[0] =\", id(lista_asignacion[0]), \"--->\", lista_asignacion[0])\n",
    "print(\"id de lista_copia[0] =\", id(lista_copia[0]), \"--->\", lista_copia[0])\n",
    "print(\"id de lista_copia_profunda[0] =\", id(lista_copia_profunda[0]), \"--->\", lista_copia_profunda[0])"
   ]
  },
  {
   "cell_type": "code",
   "execution_count": null,
   "metadata": {},
   "outputs": [],
   "source": [
    "mydict = {'lista': lista}\n",
    "print(mydict)\n",
    "\n",
    "copias = [mydict.copy(), deepcopy(mydict)]\n",
    "\n",
    "print(copias[0]['lista'] is copias[1]['lista'])\n",
    "print(lista is copias[0]['lista'])\n",
    "print(lista is copias[1]['lista'])"
   ]
  },
  {
   "cell_type": "code",
   "execution_count": null,
   "metadata": {},
   "outputs": [],
   "source": [
    "lista[0].append(8) \n",
    "print(lista)\n",
    "print(lista_asignacion)\n",
    "print(lista_copia)\n",
    "print(lista_copia_profunda)\n",
    "\n",
    "print(mydict)"
   ]
  }
 ],
 "metadata": {
  "kernelspec": {
   "display_name": "Python 3",
   "language": "python",
   "name": "python3"
  },
  "language_info": {
   "codemirror_mode": {
    "name": "ipython",
    "version": 3
   },
   "file_extension": ".py",
   "mimetype": "text/x-python",
   "name": "python",
   "nbconvert_exporter": "python",
   "pygments_lexer": "ipython3",
   "version": "3.7.6"
  }
 },
 "nbformat": 4,
 "nbformat_minor": 4
}
