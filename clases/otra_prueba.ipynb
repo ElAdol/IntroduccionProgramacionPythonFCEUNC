{
 "cells": [
  {
   "cell_type": "markdown",
   "metadata": {},
   "source": [
    "## ¡Para un mejor seguimiento de la clase, es recomendable abrirla desde Colab, siguiendo el botón de abajo!\n",
    "\n",
    "<a href=\"https://colab.research.google.com/github/martinezarraigadamaria/IntroduccionProgramacionPythonFCEUNC/blob/master/clases/otra_prueba.ipynb\" target=\"_parent\"><img src=\"https://colab.research.google.com/assets/colab-badge.svg\" alt=\"Open In Colab\"/></a>\n",
    "\n",
    "## Clase 1\n",
    "\n",
    "---\n",
    "\n",
    "> Elementos de programación y programación en Python.\n",
    "\n",
    "> Herramienta principal: Collaboratory.\n",
    "\n",
    "> Variables.\n",
    "\n",
    "> Operadores lógicos y matemáticos.\n"
   ]
  },
  {
   "cell_type": "markdown",
   "metadata": {},
   "source": [
    "El **objetivo principal** del curso es aprender conceptos básicos de programación, de forma que nos permita cargar datos desde diversos tipos de fuentes, manipular y transformar conjuntos de datos y representar información de manera sencilla. Está orientado a personas que no tienen experiencia programando en Python.\n",
    "\n",
    "La dinámica del curso incluirá ejercicios de práctica y desafíos a completar a través de notebooks."
   ]
  },
  {
   "cell_type": "markdown",
   "metadata": {},
   "source": [
    "# ¿Qué es la Programación?"
   ]
  },
  {
   "cell_type": "markdown",
   "metadata": {},
   "source": [
    "La **programación** es el proceso de diseñar e implementar un programa de computadora, utilizando algún lenguaje que permita comunicar una serie de instrucciones o acciones que se pretende que la computadora realice. Podemos pensar que es como una línea de producción que recibe un input/entrada (información), realiza algún procesamiento o acción (programa), y devuelve un output/salida (información procesada).\n",
    "\n",
    "\n",
    "\n",
    "## Lenguajes de Programación\n",
    "Un lenguaje de programación es un [lenguaje formal](https://es.wikipedia.org/wiki/Lenguaje_formal) que nos permite escribir secuencias de órdenes o instrucciones para controlar el comportamiento físico y lógico de una computadora, con el objetivo de que produzca/ejecute ciertas acciones deseadas."
   ]
  },
  {
   "cell_type": "markdown",
   "metadata": {},
   "source": [
    "### ¿Por qué Python?\n",
    "Python es uno de los lenguajes de programación con **reglas más simples e intuitivas** que existen; esto explica la creciente popularidad que ha tenido en los últimos tiempos.\n",
    "\n",
    "Es un lenguaje utilizado con **múltiples propósitos**, entre ellos la manipulación y procesamiento de datos, y es uno de los más populares en el campo de la ciencia de datos.\n",
    "\n",
    "Una ventaja muy importante es que la **comunidad** de Python es una de las más grandes. Por lo tanto, ante cualquier duda que nos surja, podemos buscarla (googlearla) y seguramente encontraremos a alguien que ya haya tenido ese mismo problema. Uno de los sitios web más conocidos para este fin es [StackOverflow](https://stackoverflow.com/)\n",
    "\n",
    "El siguiente gráfico ilustra cuán usado es respecto a otros lenguajes, así como también el crecimiento de su uso en el tiempo.\n",
    "\n",
    "\n",
    "![picture](https://drive.google.com/uc?export=view&id=1VF0jes1uwHqKnIaM77TiDk1f1LmvgrRn)"
   ]
  },
  {
   "cell_type": "markdown",
   "metadata": {},
   "source": [
    "# ¿Qué es un Notebook?"
   ]
  },
  {
   "cell_type": "markdown",
   "metadata": {},
   "source": [
    "Un notebook es un tipo de documento (archivo) que nos permite alternar bloques de texto con bloques de código ejecutable. A cada bloque dentro del notebook lo denominamos **celda**.\n",
    "\n",
    "Una celda puede ser del **tipo texto** (como el bloque en donde está escrito este contenido) o del **tipo código** (donde vamos a escribir nuestros programas).\n",
    "\n",
    "## ¿Cómo se ejecuta una celda de tipo código?\n",
    "\n",
    "- Una opción es presionando **`Ctrl+Enter`** (o si tenés MAC, **`Cmd+Enter`**)\n",
    "- Otra forma de ejecutarlo es presionando el botón que aparece en la esquina superior izquierda del cuadro de texto con el código (parecido a *play*).\n",
    "- Siempre de arriba hacia abajo (mantenerse ordenado, por cuestiones de reproducibilidad)."
   ]
  },
  {
   "cell_type": "markdown",
   "metadata": {},
   "source": [
    "# Programas Básicos y Variables\n"
   ]
  },
  {
   "cell_type": "markdown",
   "metadata": {},
   "source": [
    "## Output y Función `print()`\n",
    "\n",
    "El output de un programa es la manera de transmitir información hacia su entorno. En Google Colaboratory veremos el output del programa debajo de la celda donde fue ejecutado.\n",
    "\n",
    "Para mostrar un dato en la pantalla, podemos utilizar el comando **`print( )`**, poniendo el dato que deseemos entre los paréntesis. Notar que, para escribir texto, se debe indicar con comillas simples o dobles y para escribir números no se deben aplicar comillas."
   ]
  },
  {
   "cell_type": "code",
   "execution_count": 4,
   "metadata": {},
   "outputs": [
    {
     "name": "stdout",
     "output_type": "stream",
     "text": [
      "123\n",
      "Hola, ¿cómo estás?\n",
      "Buenas tardes\n"
     ]
    }
   ],
   "source": [
    "print(123)\n",
    "print(\"Hola, ¿cómo estás?\")\n",
    "print('Buenas tardes')"
   ]
  },
  {
   "cell_type": "markdown",
   "metadata": {},
   "source": [
    "## ¿Qué es una Variable?\n",
    "\n",
    "En programación, se le asigna un nombre o \"apodo\" a cada pequeño segmento de la memoria que almacena un dato o un valor.\n",
    "Una variable es un espacio reservado en memoria al que le ponemos un \"apodo\", en el que se puede almacenar algo (un elemento o dato) y que permite recuperar/transformar/modificar lo almacenado si lo volvemos a declarar una vez guardado previamente, invocándolo por su \"apodo\".\n",
    "\n",
    "\n",
    "Para que un programa funcione y pueda realizar tareas es necesario guardar en la memoria de la computadora los datos que necesita. De esta forma, cada vez que se usa este nombre en el programa se está refiriendo al valor del dato almacenado en la memoria. Este es el concepto de **\"variable\"**.\n",
    "\n",
    "En python esto se logra de la siguiente manera:\n"
   ]
  },
  {
   "cell_type": "code",
   "execution_count": 5,
   "metadata": {},
   "outputs": [
    {
     "name": "stdout",
     "output_type": "stream",
     "text": [
      "5\n"
     ]
    }
   ],
   "source": [
    "x = \"5\"\n",
    "print(x)"
   ]
  },
  {
   "cell_type": "markdown",
   "metadata": {},
   "source": [
    "En estas variables podemos guardar lo que sea necesario para ejecutar el programa. Por ejemplo, si necesitamos guardar texto se indica con: \"(texto)\" o '(texto)'.\n",
    "\n",
    "Notemos que para asignar una variable el símbolo que utilizamos fue el **`=`**. A este operador lo llamamos **operador de asignación**."
   ]
  },
  {
   "cell_type": "code",
   "execution_count": 7,
   "metadata": {},
   "outputs": [
    {
     "name": "stdout",
     "output_type": "stream",
     "text": [
      "Hola Mundo!\n",
      "Adios Mundo!\n",
      "123\n"
     ]
    }
   ],
   "source": [
    "x = 'Hola Mundo!'\n",
    "y = \"Adios Mundo!\"\n",
    "z = 123\n",
    "print(x)\n",
    "print(y)\n",
    "print(z)"
   ]
  },
  {
   "cell_type": "code",
   "execution_count": null,
   "metadata": {},
   "outputs": [],
   "source": []
  }
 ],
 "metadata": {
  "kernelspec": {
   "display_name": "Python 3",
   "language": "python",
   "name": "python3"
  },
  "language_info": {
   "codemirror_mode": {
    "name": "ipython",
    "version": 3
   },
   "file_extension": ".py",
   "mimetype": "text/x-python",
   "name": "python",
   "nbconvert_exporter": "python",
   "pygments_lexer": "ipython3",
   "version": "3.7.6"
  }
 },
 "nbformat": 4,
 "nbformat_minor": 4
}
