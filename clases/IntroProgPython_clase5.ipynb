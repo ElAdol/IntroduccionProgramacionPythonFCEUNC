{
 "cells": [
  {
   "cell_type": "markdown",
   "metadata": {},
   "source": [
    "### NOTA: Para un mejor seguimiento de esta clase, es recomendable abrirla desde Colab, siguiendo el botón de abajo\n",
    "\n",
    "<a href=\"https://colab.research.google.com/github/martinezarraigadamaria/IntroduccionProgramacionPythonFCEUNC/blob/master/clases/IntroProgPython_clase5.ipynb\" target=\"_parent\"><img src=\"https://colab.research.google.com/assets/colab-badge.svg\" alt=\"Open In Colab\"/></a>"
   ]
  },
  {
   "cell_type": "markdown",
   "metadata": {},
   "source": [
    "# Clase 5 (En construcción...)\n",
    "\n",
    "---\n",
    "> Utilización de librerías para Data Science: numpy, pandas, statsmodels, scikit-learn.\n",
    "\n",
    "> Elementos gráficos: matplotlib y seaborn."
   ]
  },
  {
   "cell_type": "markdown",
   "metadata": {},
   "source": [
    "# Revisando NumPy\n",
    "\n",
    "<img align=\"middle\" src=\"https://upload.wikimedia.org/wikipedia/commons/thumb/3/31/NumPy_logo_2020.svg/1920px-NumPy_logo_2020.svg.png\" alt=\"crispdm\" width=\"400\"/>\n",
    "\n",
    "La librería NumPy tiene un objeto principal: **ndarray** (array n-dimensional). Este objeto es un array multipdimensional que contiene elementos del mismo tipo y tamaño.\n",
    "\n",
    "\n",
    "\n",
    "*   shape: devuelve tupla con la forma del array \n",
    "*   ndim: devuelve la dimensión del array\n",
    "*   size: devuelve el tamaño del array\n",
    "*   dtype: cada ndarray tiene asociado **un** tipo de dato\n",
    "\n"
   ]
  },
  {
   "cell_type": "code",
   "execution_count": null,
   "metadata": {},
   "outputs": [],
   "source": [
    "import numpy as np"
   ]
  },
  {
   "cell_type": "code",
   "execution_count": null,
   "metadata": {},
   "outputs": [],
   "source": [
    "x = np.array([[1, 2, 3], [4, 5, 6]])\n",
    "print(x)\n",
    "print(f\"Shape: {x.shape}\")\n",
    "print(f\"Dimensión: {x.ndim}\")\n",
    "print(f\"Tamaño: {x.size}\")\n",
    "print(f\"Tipo de datos del array: {x.dtype}\")\n",
    "\n",
    "# Esto falla?\n",
    "#x = np.array([[1, 2, 3], [4, 5, 'hola']])\n",
    "#print(x)\n",
    "#print(x.shape)\n",
    "#print(x.dtype)\n",
    "#print(x.dtype.name)"
   ]
  },
  {
   "cell_type": "markdown",
   "metadata": {},
   "source": [
    "## Creación de Arrays\n",
    "\n",
    "La forma más básica es pasar como argumento una lista de listas:\n"
   ]
  },
  {
   "cell_type": "code",
   "execution_count": null,
   "metadata": {},
   "outputs": [],
   "source": [
    "x = np.array([[1, 2, 3], [4, 5, 6]])\n",
    "print(x)"
   ]
  },
  {
   "cell_type": "markdown",
   "metadata": {},
   "source": [
    "Se puede inicializar como una tuplas de tuplas:"
   ]
  },
  {
   "cell_type": "code",
   "execution_count": null,
   "metadata": {},
   "outputs": [],
   "source": [
    "d = np.array(((1, 2, 3),(4, 5, 6)))\n",
    "print(d)"
   ]
  },
  {
   "cell_type": "markdown",
   "metadata": {},
   "source": [
    "Se puede inicializar como una lista de tuplas:"
   ]
  },
  {
   "cell_type": "code",
   "execution_count": null,
   "metadata": {},
   "outputs": [],
   "source": [
    "e = np.array([(1, 2, 3), [4, 5, 6], (7, 8, 9)])\n",
    "print(e)"
   ]
  },
  {
   "cell_type": "markdown",
   "metadata": {},
   "source": [
    "Podemos forzar a que inicialice la lista con un tipo de datos específico:"
   ]
  },
  {
   "cell_type": "code",
   "execution_count": null,
   "metadata": {},
   "outputs": [],
   "source": [
    "f = np.array([[1, 2, 3],[4, 5, 6]], dtype=float)\n",
    "print(f)\n",
    "\n",
    "#Opción rápida: al primer elemento lo definimos como decimal\n",
    "#f = np.array([[1., 2, 3],[4, 5, 6]])\n",
    "#print(f)\n"
   ]
  },
  {
   "cell_type": "markdown",
   "metadata": {},
   "source": [
    "## Numpy Arrays con Contenido Inicial\n",
    "\n",
    "Tener en cuenta que siempre se inicializan como *float*!"
   ]
  },
  {
   "cell_type": "code",
   "execution_count": null,
   "metadata": {},
   "outputs": [],
   "source": [
    "np.zeros((3, 3))"
   ]
  },
  {
   "cell_type": "code",
   "execution_count": null,
   "metadata": {},
   "outputs": [],
   "source": [
    "np.ones((3, 3))"
   ]
  },
  {
   "cell_type": "markdown",
   "metadata": {},
   "source": [
    "Creación de un array de 1 dimension con secuencia de datos:"
   ]
  },
  {
   "cell_type": "code",
   "execution_count": null,
   "metadata": {},
   "outputs": [],
   "source": [
    "print(np.arange(0,10))\n",
    "print(np.arange(0,10,2))\n",
    "print(np.arange(0,10,2,dtype=float))"
   ]
  },
  {
   "cell_type": "markdown",
   "metadata": {},
   "source": [
    "Creación de array multidimensional"
   ]
  },
  {
   "cell_type": "code",
   "execution_count": null,
   "metadata": {},
   "outputs": [],
   "source": [
    "np.arange(0, 12).reshape(3, 4)"
   ]
  },
  {
   "cell_type": "code",
   "execution_count": null,
   "metadata": {},
   "outputs": [],
   "source": [
    "np.linspace(0,10,6)"
   ]
  },
  {
   "cell_type": "code",
   "execution_count": null,
   "metadata": {},
   "outputs": [],
   "source": [
    "np.random.random(3)"
   ]
  },
  {
   "cell_type": "code",
   "execution_count": null,
   "metadata": {},
   "outputs": [],
   "source": [
    "np.random.random((3,3))"
   ]
  },
  {
   "cell_type": "markdown",
   "metadata": {},
   "source": [
    "## Operaciones Básicas"
   ]
  },
  {
   "cell_type": "markdown",
   "metadata": {},
   "source": [
    "### Operaciones Aritméticas\n",
    "\n",
    "*   Suma, resta o multiplicación por un escalar\n"
   ]
  },
  {
   "cell_type": "code",
   "execution_count": null,
   "metadata": {},
   "outputs": [],
   "source": [
    "a = np.arange(4)\n",
    "print(f\"Array original a = {a}\")\n",
    "print(f\"Suma por un escalar a+2 = {a+2}\")\n",
    "print(f\"Suma por un escalar a-2 = {a-1}\")\n",
    "print(f\"Multiplicación por un escalar a*2 = {a*2}\")"
   ]
  },
  {
   "cell_type": "markdown",
   "metadata": {},
   "source": [
    "*   Producto Matricial\n",
    "\n"
   ]
  },
  {
   "cell_type": "code",
   "execution_count": null,
   "metadata": {},
   "outputs": [],
   "source": [
    "A = np.arange(0, 9).reshape(3, 3)\n",
    "A"
   ]
  },
  {
   "cell_type": "code",
   "execution_count": null,
   "metadata": {},
   "outputs": [],
   "source": [
    "B = np.ones((3, 3))\n",
    "B"
   ]
  },
  {
   "cell_type": "code",
   "execution_count": null,
   "metadata": {},
   "outputs": [],
   "source": [
    "print(f\"A*B= {np.dot(A,B)}\")"
   ]
  },
  {
   "cell_type": "code",
   "execution_count": null,
   "metadata": {},
   "outputs": [],
   "source": [
    "print(f\"B*A= {np.dot(B,A)}\")"
   ]
  },
  {
   "cell_type": "markdown",
   "metadata": {},
   "source": [
    "### Funciones Universales: ufunc\n",
    "Es una función que opera elemento a elemento. Esto quiere decir que actua individualmente sobre cada elemento y genera un resultado. Para más información revisar documentación en Numpy: https://numpy.org/doc/stable/reference/ufuncs.html"
   ]
  },
  {
   "cell_type": "code",
   "execution_count": null,
   "metadata": {},
   "outputs": [],
   "source": [
    "a = np.arange(1, 5)\n",
    "print(a)\n",
    "print(f\"Raíz cuadrada: {np.sqrt(a)} \")\n",
    "print(f\"Logaritmo: {np.log(a)} \")\n",
    "print(f\"Seno: {np.sin(a)} \")\n",
    "print(f\"Coseno: {np.cos(a)} \")"
   ]
  },
  {
   "cell_type": "code",
   "execution_count": null,
   "metadata": {},
   "outputs": [],
   "source": [
    "a = np.array([1,2,3,np.nan])\n",
    "np.isnan(a)"
   ]
  },
  {
   "cell_type": "markdown",
   "metadata": {},
   "source": [
    "### Funciones de Agregación \n",
    "Las funciones de agregación realizan una operación sobre un conjunto de valores y producen un solo resultado."
   ]
  },
  {
   "cell_type": "code",
   "execution_count": null,
   "metadata": {},
   "outputs": [],
   "source": [
    "a = np.array([3.3, 4.5, 1.2, 5.7, 0.3])\n",
    "print(f\"Array: {a}\")\n",
    "print(f\"Suma de todos los elementos: {a.sum()}\")\n",
    "print(f\"El mínimo valor: {a.min()}\")\n",
    "print(f\"El máximo valor: {a.max()}\")\n",
    "print(f\"La media: {a.mean()}\")\n",
    "print(f\"La desviación estándar: {a.std()}\")"
   ]
  },
  {
   "cell_type": "markdown",
   "metadata": {},
   "source": [
    "### Sub Array\n",
    "Un **sub Array** es una porción de un array.\n",
    "\n",
    "\n",
    "\n",
    "*   Arrays de una dimensión\n",
    "\n",
    "\n"
   ]
  },
  {
   "cell_type": "code",
   "execution_count": null,
   "metadata": {},
   "outputs": [],
   "source": [
    "a = np.arange(0, 6)\n",
    "print(a)\n",
    "print(a[1:5])\n",
    "print(a[1:5:2])\n",
    "print(a[::2])\n",
    "print(a[:5:2])\n",
    "print(a[:5:])"
   ]
  },
  {
   "cell_type": "markdown",
   "metadata": {},
   "source": [
    "*   Arrays de dos dimensiones"
   ]
  },
  {
   "cell_type": "code",
   "execution_count": null,
   "metadata": {},
   "outputs": [],
   "source": [
    "A = np.arange(10, 19).reshape((3, 3))\n",
    "print(A)\n",
    "print(f\"Solo la primera fila: \\n A[0,:]= {A[0,:]}\")\n",
    "print(f\"Solo la primera columna: \\n A[:,0]= {A[:,0]}\")\n",
    "print(f\"Sub matrix: \\n A[0:2, 0:2]=\\n {A[0:2, 0:2]}\")\n",
    "print(f\"Sub matrix sin índices contiguos pasamos lista de índices: \\nA[[0,2], 0:2]=\\n  {A[[0,2], 0:2]}\")"
   ]
  },
  {
   "cell_type": "markdown",
   "metadata": {},
   "source": [
    "### Iteración\n"
   ]
  },
  {
   "cell_type": "code",
   "execution_count": null,
   "metadata": {},
   "outputs": [],
   "source": [
    "a = np.arange(0, 6)\n",
    "for i in a:\n",
    "    print(i)"
   ]
  },
  {
   "cell_type": "code",
   "execution_count": null,
   "metadata": {},
   "outputs": [],
   "source": [
    "A = np.arange(10, 19).reshape((3, 3))\n",
    "for i in A:\n",
    "  print(i)"
   ]
  },
  {
   "cell_type": "code",
   "execution_count": null,
   "metadata": {},
   "outputs": [],
   "source": [
    "for item in A.flat:\n",
    "    print(item)"
   ]
  },
  {
   "cell_type": "markdown",
   "metadata": {},
   "source": [
    "### Condiciones Sobre Arrays\n"
   ]
  },
  {
   "cell_type": "code",
   "execution_count": null,
   "metadata": {},
   "outputs": [],
   "source": [
    "A = np.random.random((4, 4))\n",
    "print(\"A\")\n",
    "print(A)\n",
    "print(\"A < 0.5\")\n",
    "print(A < 0.5)\n",
    "print(\"A[A < 0.5]\")\n",
    "print(A[A < 0.5])\n",
    "print(f\"{A[A < 0.5]}\")"
   ]
  },
  {
   "cell_type": "markdown",
   "metadata": {},
   "source": [
    "### Manipulación de Array"
   ]
  },
  {
   "cell_type": "markdown",
   "metadata": {},
   "source": [
    "#### Join\n",
    "\n",
    "NumPy permite unir dos o más arrays verticalmente u horizontalmente. Esto lo llama apilar (stack).\n",
    "\n",
    "*   Cuando se apila verticalmente (vstack) la cantidad de columnas tienen que ser iguales.\n",
    "*   Cuando se apila horizontalmente (hstack) la cantidad de filas tienen que ser iguales.\n"
   ]
  },
  {
   "cell_type": "code",
   "execution_count": null,
   "metadata": {},
   "outputs": [],
   "source": [
    "#            F  C\n",
    "A = np.ones((4, 3))\n",
    "B = np.zeros((3, 3))\n",
    "np.vstack((A, B))"
   ]
  },
  {
   "cell_type": "code",
   "execution_count": null,
   "metadata": {},
   "outputs": [],
   "source": [
    "#            F  C\n",
    "A = np.ones((3, 4))\n",
    "B = np.zeros((3, 3))\n",
    "np.hstack((A,B))"
   ]
  },
  {
   "cell_type": "markdown",
   "metadata": {},
   "source": [
    "#### Split\n",
    "\n",
    "Este funcionalidad nos permite dividir un arrays a partir de un índice. \n",
    "\n",
    "\n",
    "*   hsplit: divide por columna\n",
    "*   vsplit: divide por fila"
   ]
  },
  {
   "cell_type": "code",
   "execution_count": null,
   "metadata": {},
   "outputs": [],
   "source": [
    "# Generamos una matriz 4x4 con números del 1 al 16\n",
    "A = np.arange(16).reshape((4, 4))\n",
    "A"
   ]
  },
  {
   "cell_type": "code",
   "execution_count": null,
   "metadata": {},
   "outputs": [],
   "source": [
    "#            (array, indice)\n",
    "[B,C] = np.hsplit(A, 2)\n",
    "print(B)\n",
    "print(C)"
   ]
  },
  {
   "cell_type": "code",
   "execution_count": null,
   "metadata": {},
   "outputs": [],
   "source": [
    "[B,C] = np.vsplit(A, 2)\n",
    "print(B)\n",
    "print(C)"
   ]
  },
  {
   "cell_type": "code",
   "execution_count": null,
   "metadata": {},
   "outputs": [],
   "source": [
    "[A1, A2, A3] = np.split(A, [1, 3], axis=1)  ## hsplit\n",
    "print(A1)\n",
    "print(A2)\n",
    "print(A3)"
   ]
  },
  {
   "cell_type": "code",
   "execution_count": null,
   "metadata": {},
   "outputs": [],
   "source": [
    "[A1, A2, A3] = np.split(A, [1, 3], axis=0)  ## vsplit\n",
    "print(A)\n",
    "print(f\"A1 = {A1}\")\n",
    "print(f\"A2 = {A2}\")\n",
    "print(f\"A3 = {A3}\")"
   ]
  },
  {
   "cell_type": "markdown",
   "metadata": {},
   "source": [
    "# Manipulando Datos con Pandas\n",
    "\n",
    "<img align=\"middle\" src=\"https://upload.wikimedia.org/wikipedia/commons/e/ed/Pandas_logo.svg\" alt=\"crispdm\" width=\"300\"/>\n",
    "\n",
    "En esta sección trabajaremos con datos de [OpenFlights](https://openflights.org/data.html), para realizar una introducción a Pandas que recopilará los básicos de esta librería. El ***repositorio*** del proyecto es [éste](https://github.com/jpatokal/openflights).\n",
    "\n",
    "Antes que nada, lo primero que tenemos que hacer para poder utilizar Pandas es importar la librería en nuestro código."
   ]
  },
  {
   "cell_type": "code",
   "execution_count": null,
   "metadata": {},
   "outputs": [],
   "source": [
    "import pandas as pd"
   ]
  }
 ],
 "metadata": {
  "kernelspec": {
   "display_name": "Python 3",
   "language": "python",
   "name": "python3"
  },
  "language_info": {
   "codemirror_mode": {
    "name": "ipython",
    "version": 3
   },
   "file_extension": ".py",
   "mimetype": "text/x-python",
   "name": "python",
   "nbconvert_exporter": "python",
   "pygments_lexer": "ipython3",
   "version": "3.7.6"
  }
 },
 "nbformat": 4,
 "nbformat_minor": 4
}
