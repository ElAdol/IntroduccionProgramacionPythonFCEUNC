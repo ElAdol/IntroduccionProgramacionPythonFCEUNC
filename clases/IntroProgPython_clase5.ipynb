{
 "cells": [
  {
   "cell_type": "markdown",
   "metadata": {},
   "source": [
    "### NOTA: Para un mejor seguimiento de esta clase, es recomendable abrirla desde Colab, siguiendo el botón de abajo\n",
    "\n",
    "<a href=\"https://colab.research.google.com/github/martinezarraigadamaria/IntroduccionProgramacionPythonFCEUNC/blob/master/clases/IntroProgPython_clase5.ipynb\" target=\"_parent\"><img src=\"https://colab.research.google.com/assets/colab-badge.svg\" alt=\"Open In Colab\"/></a>"
   ]
  },
  {
   "cell_type": "markdown",
   "metadata": {},
   "source": [
    "# Clase 5\n",
    "\n",
    "---\n",
    "> Utilización de librerías para Data Science: numpy, pandas.\n",
    "\n",
    "> Elementos gráficos: matplotlib y seaborn."
   ]
  },
  {
   "cell_type": "markdown",
   "metadata": {},
   "source": [
    "# Manipulando Datos con Pandas\n",
    "\n",
    "<img align=\"middle\" src=\"https://upload.wikimedia.org/wikipedia/commons/e/ed/Pandas_logo.svg\" alt=\"crispdm\" width=\"300\"/>\n",
    "\n",
    "El conjunto de datos utilizado contiene información de referencia y de rendimiento de préstamos para 5,960 préstamos. El objetivo (BAD) es una variable binaria que indica si un solicitante finalmente incurrió en incumplimiento o en grave mora en alguna entidad bancaria. Y por muestreo rápido. \n",
    "\n",
    "Los datos son los siguientes:\n",
    "\n",
    "- BAD: 1 = candidato con préstamo incumplido o con mora; 0 = candidato que paga su deuda y no tiene registro negativo\n",
    "\n",
    "- LOAN: Monto de solicitud de préstamo\n",
    "\n",
    "- MORTDUE: Monto adeudado de la hipoteca existente\n",
    "\n",
    "- VALUE: Valor actual del bien o propiedad\n",
    "\n",
    "- REASON: DebtCon = consolidación de la deuda; HomeImp = mejoras para el hogar\n",
    "\n",
    "- JOB: Categorias ocupacionales o profesionales\n",
    "\n",
    "- YOJ: Años en su trabajo actual\n",
    "\n",
    "- DEROG: Número de informes derogados o cancelados importantes\n",
    "\n",
    "- DELINQ: Número de lineas de crédito morosas\n",
    "\n",
    "- CLAGE: Antiguedad de la linea de crédito más antigua en meses\n",
    "\n",
    "- NINQ: Número de consultas crediticas recientes\n",
    "\n",
    "- CLNO: Número de líneas de crédito\n",
    "\n",
    "- DEBTINC: -"
   ]
  },
  {
   "cell_type": "markdown",
   "metadata": {},
   "source": [
    "Antes que nada, lo primero que tenemos que hacer para poder utilizar Pandas es importar la librería en nuestro código.\n"
   ]
  },
  {
   "cell_type": "code",
   "execution_count": 1,
   "metadata": {},
   "outputs": [],
   "source": [
    "# Importaciones pertinentes \n",
    "import pandas as pd"
   ]
  },
  {
   "cell_type": "markdown",
   "metadata": {},
   "source": [
    "## Lectura de Datos\n",
    "\n",
    "Vamos a traer los datos que necesitamos para trabajar, mediante la lectura del archivo CSV:\n",
    "\n",
    "* hmeq\n",
    "\n",
    "\n",
    "Para ello podemos utilizar la función [**`read_csv()`**](https://pandas.pydata.org/docs/reference/api/pandas.read_csv.html). \n",
    "Veamos qué resulta:"
   ]
  },
  {
   "cell_type": "code",
   "execution_count": 2,
   "metadata": {},
   "outputs": [],
   "source": [
    "# Cargar un archivo\n",
    "url = \"https://raw.githubusercontent.com/martinezarraigadamaria/IntroduccionProgramacionPythonFCEUNC/master/datos/hmeq.csv\"\n",
    "df = pd.read_csv(url)"
   ]
  },
  {
   "cell_type": "code",
   "execution_count": 3,
   "metadata": {},
   "outputs": [
    {
     "data": {
      "text/html": [
       "<div>\n",
       "<style scoped>\n",
       "    .dataframe tbody tr th:only-of-type {\n",
       "        vertical-align: middle;\n",
       "    }\n",
       "\n",
       "    .dataframe tbody tr th {\n",
       "        vertical-align: top;\n",
       "    }\n",
       "\n",
       "    .dataframe thead th {\n",
       "        text-align: right;\n",
       "    }\n",
       "</style>\n",
       "<table border=\"1\" class=\"dataframe\">\n",
       "  <thead>\n",
       "    <tr style=\"text-align: right;\">\n",
       "      <th></th>\n",
       "      <th>BAD</th>\n",
       "      <th>LOAN</th>\n",
       "      <th>MORTDUE</th>\n",
       "      <th>VALUE</th>\n",
       "      <th>REASON</th>\n",
       "      <th>JOB</th>\n",
       "      <th>YOJ</th>\n",
       "      <th>DEROG</th>\n",
       "      <th>DELINQ</th>\n",
       "      <th>CLAGE</th>\n",
       "      <th>NINQ</th>\n",
       "      <th>CLNO</th>\n",
       "      <th>DEBTINC</th>\n",
       "    </tr>\n",
       "  </thead>\n",
       "  <tbody>\n",
       "    <tr>\n",
       "      <th>0</th>\n",
       "      <td>1</td>\n",
       "      <td>1100</td>\n",
       "      <td>25860.0</td>\n",
       "      <td>39025.0</td>\n",
       "      <td>HomeImp</td>\n",
       "      <td>Other</td>\n",
       "      <td>10.5</td>\n",
       "      <td>0.0</td>\n",
       "      <td>0.0</td>\n",
       "      <td>94.366667</td>\n",
       "      <td>1.0</td>\n",
       "      <td>9.0</td>\n",
       "      <td>NaN</td>\n",
       "    </tr>\n",
       "    <tr>\n",
       "      <th>1</th>\n",
       "      <td>1</td>\n",
       "      <td>1300</td>\n",
       "      <td>70053.0</td>\n",
       "      <td>68400.0</td>\n",
       "      <td>HomeImp</td>\n",
       "      <td>Other</td>\n",
       "      <td>7.0</td>\n",
       "      <td>0.0</td>\n",
       "      <td>2.0</td>\n",
       "      <td>121.833333</td>\n",
       "      <td>0.0</td>\n",
       "      <td>14.0</td>\n",
       "      <td>NaN</td>\n",
       "    </tr>\n",
       "    <tr>\n",
       "      <th>2</th>\n",
       "      <td>1</td>\n",
       "      <td>1500</td>\n",
       "      <td>13500.0</td>\n",
       "      <td>16700.0</td>\n",
       "      <td>HomeImp</td>\n",
       "      <td>Other</td>\n",
       "      <td>4.0</td>\n",
       "      <td>0.0</td>\n",
       "      <td>0.0</td>\n",
       "      <td>149.466667</td>\n",
       "      <td>1.0</td>\n",
       "      <td>10.0</td>\n",
       "      <td>NaN</td>\n",
       "    </tr>\n",
       "    <tr>\n",
       "      <th>3</th>\n",
       "      <td>1</td>\n",
       "      <td>1500</td>\n",
       "      <td>NaN</td>\n",
       "      <td>NaN</td>\n",
       "      <td>NaN</td>\n",
       "      <td>NaN</td>\n",
       "      <td>NaN</td>\n",
       "      <td>NaN</td>\n",
       "      <td>NaN</td>\n",
       "      <td>NaN</td>\n",
       "      <td>NaN</td>\n",
       "      <td>NaN</td>\n",
       "      <td>NaN</td>\n",
       "    </tr>\n",
       "    <tr>\n",
       "      <th>4</th>\n",
       "      <td>0</td>\n",
       "      <td>1700</td>\n",
       "      <td>97800.0</td>\n",
       "      <td>112000.0</td>\n",
       "      <td>HomeImp</td>\n",
       "      <td>Office</td>\n",
       "      <td>3.0</td>\n",
       "      <td>0.0</td>\n",
       "      <td>0.0</td>\n",
       "      <td>93.333333</td>\n",
       "      <td>0.0</td>\n",
       "      <td>14.0</td>\n",
       "      <td>NaN</td>\n",
       "    </tr>\n",
       "    <tr>\n",
       "      <th>...</th>\n",
       "      <td>...</td>\n",
       "      <td>...</td>\n",
       "      <td>...</td>\n",
       "      <td>...</td>\n",
       "      <td>...</td>\n",
       "      <td>...</td>\n",
       "      <td>...</td>\n",
       "      <td>...</td>\n",
       "      <td>...</td>\n",
       "      <td>...</td>\n",
       "      <td>...</td>\n",
       "      <td>...</td>\n",
       "      <td>...</td>\n",
       "    </tr>\n",
       "    <tr>\n",
       "      <th>5955</th>\n",
       "      <td>0</td>\n",
       "      <td>88900</td>\n",
       "      <td>57264.0</td>\n",
       "      <td>90185.0</td>\n",
       "      <td>DebtCon</td>\n",
       "      <td>Other</td>\n",
       "      <td>16.0</td>\n",
       "      <td>0.0</td>\n",
       "      <td>0.0</td>\n",
       "      <td>221.808718</td>\n",
       "      <td>0.0</td>\n",
       "      <td>16.0</td>\n",
       "      <td>36.112347</td>\n",
       "    </tr>\n",
       "    <tr>\n",
       "      <th>5956</th>\n",
       "      <td>0</td>\n",
       "      <td>89000</td>\n",
       "      <td>54576.0</td>\n",
       "      <td>92937.0</td>\n",
       "      <td>DebtCon</td>\n",
       "      <td>Other</td>\n",
       "      <td>16.0</td>\n",
       "      <td>0.0</td>\n",
       "      <td>0.0</td>\n",
       "      <td>208.692070</td>\n",
       "      <td>0.0</td>\n",
       "      <td>15.0</td>\n",
       "      <td>35.859971</td>\n",
       "    </tr>\n",
       "    <tr>\n",
       "      <th>5957</th>\n",
       "      <td>0</td>\n",
       "      <td>89200</td>\n",
       "      <td>54045.0</td>\n",
       "      <td>92924.0</td>\n",
       "      <td>DebtCon</td>\n",
       "      <td>Other</td>\n",
       "      <td>15.0</td>\n",
       "      <td>0.0</td>\n",
       "      <td>0.0</td>\n",
       "      <td>212.279697</td>\n",
       "      <td>0.0</td>\n",
       "      <td>15.0</td>\n",
       "      <td>35.556590</td>\n",
       "    </tr>\n",
       "    <tr>\n",
       "      <th>5958</th>\n",
       "      <td>0</td>\n",
       "      <td>89800</td>\n",
       "      <td>50370.0</td>\n",
       "      <td>91861.0</td>\n",
       "      <td>DebtCon</td>\n",
       "      <td>Other</td>\n",
       "      <td>14.0</td>\n",
       "      <td>0.0</td>\n",
       "      <td>0.0</td>\n",
       "      <td>213.892709</td>\n",
       "      <td>0.0</td>\n",
       "      <td>16.0</td>\n",
       "      <td>34.340882</td>\n",
       "    </tr>\n",
       "    <tr>\n",
       "      <th>5959</th>\n",
       "      <td>0</td>\n",
       "      <td>89900</td>\n",
       "      <td>48811.0</td>\n",
       "      <td>88934.0</td>\n",
       "      <td>DebtCon</td>\n",
       "      <td>Other</td>\n",
       "      <td>15.0</td>\n",
       "      <td>0.0</td>\n",
       "      <td>0.0</td>\n",
       "      <td>219.601002</td>\n",
       "      <td>0.0</td>\n",
       "      <td>16.0</td>\n",
       "      <td>34.571519</td>\n",
       "    </tr>\n",
       "  </tbody>\n",
       "</table>\n",
       "<p>5960 rows × 13 columns</p>\n",
       "</div>"
      ],
      "text/plain": [
       "      BAD   LOAN  MORTDUE     VALUE   REASON     JOB   YOJ  DEROG  DELINQ  \\\n",
       "0       1   1100  25860.0   39025.0  HomeImp   Other  10.5    0.0     0.0   \n",
       "1       1   1300  70053.0   68400.0  HomeImp   Other   7.0    0.0     2.0   \n",
       "2       1   1500  13500.0   16700.0  HomeImp   Other   4.0    0.0     0.0   \n",
       "3       1   1500      NaN       NaN      NaN     NaN   NaN    NaN     NaN   \n",
       "4       0   1700  97800.0  112000.0  HomeImp  Office   3.0    0.0     0.0   \n",
       "...   ...    ...      ...       ...      ...     ...   ...    ...     ...   \n",
       "5955    0  88900  57264.0   90185.0  DebtCon   Other  16.0    0.0     0.0   \n",
       "5956    0  89000  54576.0   92937.0  DebtCon   Other  16.0    0.0     0.0   \n",
       "5957    0  89200  54045.0   92924.0  DebtCon   Other  15.0    0.0     0.0   \n",
       "5958    0  89800  50370.0   91861.0  DebtCon   Other  14.0    0.0     0.0   \n",
       "5959    0  89900  48811.0   88934.0  DebtCon   Other  15.0    0.0     0.0   \n",
       "\n",
       "           CLAGE  NINQ  CLNO    DEBTINC  \n",
       "0      94.366667   1.0   9.0        NaN  \n",
       "1     121.833333   0.0  14.0        NaN  \n",
       "2     149.466667   1.0  10.0        NaN  \n",
       "3            NaN   NaN   NaN        NaN  \n",
       "4      93.333333   0.0  14.0        NaN  \n",
       "...          ...   ...   ...        ...  \n",
       "5955  221.808718   0.0  16.0  36.112347  \n",
       "5956  208.692070   0.0  15.0  35.859971  \n",
       "5957  212.279697   0.0  15.0  35.556590  \n",
       "5958  213.892709   0.0  16.0  34.340882  \n",
       "5959  219.601002   0.0  16.0  34.571519  \n",
       "\n",
       "[5960 rows x 13 columns]"
      ]
     },
     "execution_count": 3,
     "metadata": {},
     "output_type": "execute_result"
    }
   ],
   "source": [
    "df"
   ]
  },
  {
   "cell_type": "markdown",
   "metadata": {},
   "source": [
    "## Exploración de **`DataFrames`**"
   ]
  },
  {
   "cell_type": "code",
   "execution_count": 4,
   "metadata": {},
   "outputs": [
    {
     "data": {
      "text/html": [
       "<div>\n",
       "<style scoped>\n",
       "    .dataframe tbody tr th:only-of-type {\n",
       "        vertical-align: middle;\n",
       "    }\n",
       "\n",
       "    .dataframe tbody tr th {\n",
       "        vertical-align: top;\n",
       "    }\n",
       "\n",
       "    .dataframe thead th {\n",
       "        text-align: right;\n",
       "    }\n",
       "</style>\n",
       "<table border=\"1\" class=\"dataframe\">\n",
       "  <thead>\n",
       "    <tr style=\"text-align: right;\">\n",
       "      <th></th>\n",
       "      <th>BAD</th>\n",
       "      <th>LOAN</th>\n",
       "      <th>MORTDUE</th>\n",
       "      <th>VALUE</th>\n",
       "      <th>REASON</th>\n",
       "      <th>JOB</th>\n",
       "      <th>YOJ</th>\n",
       "      <th>DEROG</th>\n",
       "      <th>DELINQ</th>\n",
       "      <th>CLAGE</th>\n",
       "      <th>NINQ</th>\n",
       "      <th>CLNO</th>\n",
       "      <th>DEBTINC</th>\n",
       "    </tr>\n",
       "  </thead>\n",
       "  <tbody>\n",
       "    <tr>\n",
       "      <th>0</th>\n",
       "      <td>1</td>\n",
       "      <td>1100</td>\n",
       "      <td>25860.0</td>\n",
       "      <td>39025.0</td>\n",
       "      <td>HomeImp</td>\n",
       "      <td>Other</td>\n",
       "      <td>10.5</td>\n",
       "      <td>0.0</td>\n",
       "      <td>0.0</td>\n",
       "      <td>94.366667</td>\n",
       "      <td>1.0</td>\n",
       "      <td>9.0</td>\n",
       "      <td>NaN</td>\n",
       "    </tr>\n",
       "    <tr>\n",
       "      <th>1</th>\n",
       "      <td>1</td>\n",
       "      <td>1300</td>\n",
       "      <td>70053.0</td>\n",
       "      <td>68400.0</td>\n",
       "      <td>HomeImp</td>\n",
       "      <td>Other</td>\n",
       "      <td>7.0</td>\n",
       "      <td>0.0</td>\n",
       "      <td>2.0</td>\n",
       "      <td>121.833333</td>\n",
       "      <td>0.0</td>\n",
       "      <td>14.0</td>\n",
       "      <td>NaN</td>\n",
       "    </tr>\n",
       "    <tr>\n",
       "      <th>2</th>\n",
       "      <td>1</td>\n",
       "      <td>1500</td>\n",
       "      <td>13500.0</td>\n",
       "      <td>16700.0</td>\n",
       "      <td>HomeImp</td>\n",
       "      <td>Other</td>\n",
       "      <td>4.0</td>\n",
       "      <td>0.0</td>\n",
       "      <td>0.0</td>\n",
       "      <td>149.466667</td>\n",
       "      <td>1.0</td>\n",
       "      <td>10.0</td>\n",
       "      <td>NaN</td>\n",
       "    </tr>\n",
       "    <tr>\n",
       "      <th>3</th>\n",
       "      <td>1</td>\n",
       "      <td>1500</td>\n",
       "      <td>NaN</td>\n",
       "      <td>NaN</td>\n",
       "      <td>NaN</td>\n",
       "      <td>NaN</td>\n",
       "      <td>NaN</td>\n",
       "      <td>NaN</td>\n",
       "      <td>NaN</td>\n",
       "      <td>NaN</td>\n",
       "      <td>NaN</td>\n",
       "      <td>NaN</td>\n",
       "      <td>NaN</td>\n",
       "    </tr>\n",
       "    <tr>\n",
       "      <th>4</th>\n",
       "      <td>0</td>\n",
       "      <td>1700</td>\n",
       "      <td>97800.0</td>\n",
       "      <td>112000.0</td>\n",
       "      <td>HomeImp</td>\n",
       "      <td>Office</td>\n",
       "      <td>3.0</td>\n",
       "      <td>0.0</td>\n",
       "      <td>0.0</td>\n",
       "      <td>93.333333</td>\n",
       "      <td>0.0</td>\n",
       "      <td>14.0</td>\n",
       "      <td>NaN</td>\n",
       "    </tr>\n",
       "  </tbody>\n",
       "</table>\n",
       "</div>"
      ],
      "text/plain": [
       "   BAD  LOAN  MORTDUE     VALUE   REASON     JOB   YOJ  DEROG  DELINQ  \\\n",
       "0    1  1100  25860.0   39025.0  HomeImp   Other  10.5    0.0     0.0   \n",
       "1    1  1300  70053.0   68400.0  HomeImp   Other   7.0    0.0     2.0   \n",
       "2    1  1500  13500.0   16700.0  HomeImp   Other   4.0    0.0     0.0   \n",
       "3    1  1500      NaN       NaN      NaN     NaN   NaN    NaN     NaN   \n",
       "4    0  1700  97800.0  112000.0  HomeImp  Office   3.0    0.0     0.0   \n",
       "\n",
       "        CLAGE  NINQ  CLNO  DEBTINC  \n",
       "0   94.366667   1.0   9.0      NaN  \n",
       "1  121.833333   0.0  14.0      NaN  \n",
       "2  149.466667   1.0  10.0      NaN  \n",
       "3         NaN   NaN   NaN      NaN  \n",
       "4   93.333333   0.0  14.0      NaN  "
      ]
     },
     "execution_count": 4,
     "metadata": {},
     "output_type": "execute_result"
    }
   ],
   "source": [
    "# Ver primeras filas (por defecto mostrará las primeras 5 filas, usando .head(n) veremos las primeras n filas)\n",
    "df.head()"
   ]
  },
  {
   "cell_type": "code",
   "execution_count": 5,
   "metadata": {},
   "outputs": [
    {
     "data": {
      "text/html": [
       "<div>\n",
       "<style scoped>\n",
       "    .dataframe tbody tr th:only-of-type {\n",
       "        vertical-align: middle;\n",
       "    }\n",
       "\n",
       "    .dataframe tbody tr th {\n",
       "        vertical-align: top;\n",
       "    }\n",
       "\n",
       "    .dataframe thead th {\n",
       "        text-align: right;\n",
       "    }\n",
       "</style>\n",
       "<table border=\"1\" class=\"dataframe\">\n",
       "  <thead>\n",
       "    <tr style=\"text-align: right;\">\n",
       "      <th></th>\n",
       "      <th>BAD</th>\n",
       "      <th>LOAN</th>\n",
       "      <th>MORTDUE</th>\n",
       "      <th>VALUE</th>\n",
       "      <th>REASON</th>\n",
       "      <th>JOB</th>\n",
       "      <th>YOJ</th>\n",
       "      <th>DEROG</th>\n",
       "      <th>DELINQ</th>\n",
       "      <th>CLAGE</th>\n",
       "      <th>NINQ</th>\n",
       "      <th>CLNO</th>\n",
       "      <th>DEBTINC</th>\n",
       "    </tr>\n",
       "  </thead>\n",
       "  <tbody>\n",
       "    <tr>\n",
       "      <th>5955</th>\n",
       "      <td>0</td>\n",
       "      <td>88900</td>\n",
       "      <td>57264.0</td>\n",
       "      <td>90185.0</td>\n",
       "      <td>DebtCon</td>\n",
       "      <td>Other</td>\n",
       "      <td>16.0</td>\n",
       "      <td>0.0</td>\n",
       "      <td>0.0</td>\n",
       "      <td>221.808718</td>\n",
       "      <td>0.0</td>\n",
       "      <td>16.0</td>\n",
       "      <td>36.112347</td>\n",
       "    </tr>\n",
       "    <tr>\n",
       "      <th>5956</th>\n",
       "      <td>0</td>\n",
       "      <td>89000</td>\n",
       "      <td>54576.0</td>\n",
       "      <td>92937.0</td>\n",
       "      <td>DebtCon</td>\n",
       "      <td>Other</td>\n",
       "      <td>16.0</td>\n",
       "      <td>0.0</td>\n",
       "      <td>0.0</td>\n",
       "      <td>208.692070</td>\n",
       "      <td>0.0</td>\n",
       "      <td>15.0</td>\n",
       "      <td>35.859971</td>\n",
       "    </tr>\n",
       "    <tr>\n",
       "      <th>5957</th>\n",
       "      <td>0</td>\n",
       "      <td>89200</td>\n",
       "      <td>54045.0</td>\n",
       "      <td>92924.0</td>\n",
       "      <td>DebtCon</td>\n",
       "      <td>Other</td>\n",
       "      <td>15.0</td>\n",
       "      <td>0.0</td>\n",
       "      <td>0.0</td>\n",
       "      <td>212.279697</td>\n",
       "      <td>0.0</td>\n",
       "      <td>15.0</td>\n",
       "      <td>35.556590</td>\n",
       "    </tr>\n",
       "    <tr>\n",
       "      <th>5958</th>\n",
       "      <td>0</td>\n",
       "      <td>89800</td>\n",
       "      <td>50370.0</td>\n",
       "      <td>91861.0</td>\n",
       "      <td>DebtCon</td>\n",
       "      <td>Other</td>\n",
       "      <td>14.0</td>\n",
       "      <td>0.0</td>\n",
       "      <td>0.0</td>\n",
       "      <td>213.892709</td>\n",
       "      <td>0.0</td>\n",
       "      <td>16.0</td>\n",
       "      <td>34.340882</td>\n",
       "    </tr>\n",
       "    <tr>\n",
       "      <th>5959</th>\n",
       "      <td>0</td>\n",
       "      <td>89900</td>\n",
       "      <td>48811.0</td>\n",
       "      <td>88934.0</td>\n",
       "      <td>DebtCon</td>\n",
       "      <td>Other</td>\n",
       "      <td>15.0</td>\n",
       "      <td>0.0</td>\n",
       "      <td>0.0</td>\n",
       "      <td>219.601002</td>\n",
       "      <td>0.0</td>\n",
       "      <td>16.0</td>\n",
       "      <td>34.571519</td>\n",
       "    </tr>\n",
       "  </tbody>\n",
       "</table>\n",
       "</div>"
      ],
      "text/plain": [
       "      BAD   LOAN  MORTDUE    VALUE   REASON    JOB   YOJ  DEROG  DELINQ  \\\n",
       "5955    0  88900  57264.0  90185.0  DebtCon  Other  16.0    0.0     0.0   \n",
       "5956    0  89000  54576.0  92937.0  DebtCon  Other  16.0    0.0     0.0   \n",
       "5957    0  89200  54045.0  92924.0  DebtCon  Other  15.0    0.0     0.0   \n",
       "5958    0  89800  50370.0  91861.0  DebtCon  Other  14.0    0.0     0.0   \n",
       "5959    0  89900  48811.0  88934.0  DebtCon  Other  15.0    0.0     0.0   \n",
       "\n",
       "           CLAGE  NINQ  CLNO    DEBTINC  \n",
       "5955  221.808718   0.0  16.0  36.112347  \n",
       "5956  208.692070   0.0  15.0  35.859971  \n",
       "5957  212.279697   0.0  15.0  35.556590  \n",
       "5958  213.892709   0.0  16.0  34.340882  \n",
       "5959  219.601002   0.0  16.0  34.571519  "
      ]
     },
     "execution_count": 5,
     "metadata": {},
     "output_type": "execute_result"
    }
   ],
   "source": [
    "# Ver últimas filas\n",
    "df.tail()"
   ]
  },
  {
   "cell_type": "code",
   "execution_count": 6,
   "metadata": {},
   "outputs": [
    {
     "data": {
      "text/html": [
       "<div>\n",
       "<style scoped>\n",
       "    .dataframe tbody tr th:only-of-type {\n",
       "        vertical-align: middle;\n",
       "    }\n",
       "\n",
       "    .dataframe tbody tr th {\n",
       "        vertical-align: top;\n",
       "    }\n",
       "\n",
       "    .dataframe thead th {\n",
       "        text-align: right;\n",
       "    }\n",
       "</style>\n",
       "<table border=\"1\" class=\"dataframe\">\n",
       "  <thead>\n",
       "    <tr style=\"text-align: right;\">\n",
       "      <th></th>\n",
       "      <th>BAD</th>\n",
       "      <th>LOAN</th>\n",
       "      <th>MORTDUE</th>\n",
       "      <th>VALUE</th>\n",
       "      <th>REASON</th>\n",
       "      <th>JOB</th>\n",
       "      <th>YOJ</th>\n",
       "      <th>DEROG</th>\n",
       "      <th>DELINQ</th>\n",
       "      <th>CLAGE</th>\n",
       "      <th>NINQ</th>\n",
       "      <th>CLNO</th>\n",
       "      <th>DEBTINC</th>\n",
       "    </tr>\n",
       "  </thead>\n",
       "  <tbody>\n",
       "    <tr>\n",
       "      <th>1173</th>\n",
       "      <td>0</td>\n",
       "      <td>10000</td>\n",
       "      <td>10000.0</td>\n",
       "      <td>68250.0</td>\n",
       "      <td>DebtCon</td>\n",
       "      <td>ProfExe</td>\n",
       "      <td>20.0</td>\n",
       "      <td>0.0</td>\n",
       "      <td>2.0</td>\n",
       "      <td>398.800000</td>\n",
       "      <td>1.0</td>\n",
       "      <td>12.0</td>\n",
       "      <td>NaN</td>\n",
       "    </tr>\n",
       "    <tr>\n",
       "      <th>2594</th>\n",
       "      <td>1</td>\n",
       "      <td>15000</td>\n",
       "      <td>73500.0</td>\n",
       "      <td>105000.0</td>\n",
       "      <td>DebtCon</td>\n",
       "      <td>Other</td>\n",
       "      <td>1.0</td>\n",
       "      <td>0.0</td>\n",
       "      <td>2.0</td>\n",
       "      <td>205.933333</td>\n",
       "      <td>2.0</td>\n",
       "      <td>25.0</td>\n",
       "      <td>NaN</td>\n",
       "    </tr>\n",
       "    <tr>\n",
       "      <th>67</th>\n",
       "      <td>0</td>\n",
       "      <td>3600</td>\n",
       "      <td>100693.0</td>\n",
       "      <td>114743.0</td>\n",
       "      <td>HomeImp</td>\n",
       "      <td>Office</td>\n",
       "      <td>6.0</td>\n",
       "      <td>0.0</td>\n",
       "      <td>0.0</td>\n",
       "      <td>88.470452</td>\n",
       "      <td>0.0</td>\n",
       "      <td>14.0</td>\n",
       "      <td>29.393543</td>\n",
       "    </tr>\n",
       "    <tr>\n",
       "      <th>5089</th>\n",
       "      <td>0</td>\n",
       "      <td>27200</td>\n",
       "      <td>61000.0</td>\n",
       "      <td>104044.0</td>\n",
       "      <td>DebtCon</td>\n",
       "      <td>Other</td>\n",
       "      <td>16.0</td>\n",
       "      <td>0.0</td>\n",
       "      <td>1.0</td>\n",
       "      <td>141.981234</td>\n",
       "      <td>0.0</td>\n",
       "      <td>30.0</td>\n",
       "      <td>39.546508</td>\n",
       "    </tr>\n",
       "    <tr>\n",
       "      <th>3466</th>\n",
       "      <td>0</td>\n",
       "      <td>18300</td>\n",
       "      <td>63351.0</td>\n",
       "      <td>87645.0</td>\n",
       "      <td>DebtCon</td>\n",
       "      <td>Other</td>\n",
       "      <td>1.0</td>\n",
       "      <td>0.0</td>\n",
       "      <td>0.0</td>\n",
       "      <td>324.614647</td>\n",
       "      <td>3.0</td>\n",
       "      <td>15.0</td>\n",
       "      <td>43.902303</td>\n",
       "    </tr>\n",
       "  </tbody>\n",
       "</table>\n",
       "</div>"
      ],
      "text/plain": [
       "      BAD   LOAN   MORTDUE     VALUE   REASON      JOB   YOJ  DEROG  DELINQ  \\\n",
       "1173    0  10000   10000.0   68250.0  DebtCon  ProfExe  20.0    0.0     2.0   \n",
       "2594    1  15000   73500.0  105000.0  DebtCon    Other   1.0    0.0     2.0   \n",
       "67      0   3600  100693.0  114743.0  HomeImp   Office   6.0    0.0     0.0   \n",
       "5089    0  27200   61000.0  104044.0  DebtCon    Other  16.0    0.0     1.0   \n",
       "3466    0  18300   63351.0   87645.0  DebtCon    Other   1.0    0.0     0.0   \n",
       "\n",
       "           CLAGE  NINQ  CLNO    DEBTINC  \n",
       "1173  398.800000   1.0  12.0        NaN  \n",
       "2594  205.933333   2.0  25.0        NaN  \n",
       "67     88.470452   0.0  14.0  29.393543  \n",
       "5089  141.981234   0.0  30.0  39.546508  \n",
       "3466  324.614647   3.0  15.0  43.902303  "
      ]
     },
     "execution_count": 6,
     "metadata": {},
     "output_type": "execute_result"
    }
   ],
   "source": [
    "# Obtener una muestra aleatoria\n",
    "df.sample(5)"
   ]
  },
  {
   "cell_type": "code",
   "execution_count": 7,
   "metadata": {},
   "outputs": [
    {
     "data": {
      "text/html": [
       "<div>\n",
       "<style scoped>\n",
       "    .dataframe tbody tr th:only-of-type {\n",
       "        vertical-align: middle;\n",
       "    }\n",
       "\n",
       "    .dataframe tbody tr th {\n",
       "        vertical-align: top;\n",
       "    }\n",
       "\n",
       "    .dataframe thead th {\n",
       "        text-align: right;\n",
       "    }\n",
       "</style>\n",
       "<table border=\"1\" class=\"dataframe\">\n",
       "  <thead>\n",
       "    <tr style=\"text-align: right;\">\n",
       "      <th></th>\n",
       "      <th>BAD</th>\n",
       "      <th>LOAN</th>\n",
       "      <th>MORTDUE</th>\n",
       "      <th>VALUE</th>\n",
       "      <th>REASON</th>\n",
       "      <th>JOB</th>\n",
       "      <th>YOJ</th>\n",
       "      <th>DEROG</th>\n",
       "      <th>DELINQ</th>\n",
       "      <th>CLAGE</th>\n",
       "      <th>NINQ</th>\n",
       "      <th>CLNO</th>\n",
       "      <th>DEBTINC</th>\n",
       "    </tr>\n",
       "  </thead>\n",
       "  <tbody>\n",
       "    <tr>\n",
       "      <th>4302</th>\n",
       "      <td>0</td>\n",
       "      <td>22400</td>\n",
       "      <td>62354.0</td>\n",
       "      <td>88287.0</td>\n",
       "      <td>DebtCon</td>\n",
       "      <td>Office</td>\n",
       "      <td>3.0</td>\n",
       "      <td>NaN</td>\n",
       "      <td>NaN</td>\n",
       "      <td>163.056409</td>\n",
       "      <td>NaN</td>\n",
       "      <td>16.0</td>\n",
       "      <td>37.171396</td>\n",
       "    </tr>\n",
       "    <tr>\n",
       "      <th>1189</th>\n",
       "      <td>1</td>\n",
       "      <td>10000</td>\n",
       "      <td>65000.0</td>\n",
       "      <td>80000.0</td>\n",
       "      <td>DebtCon</td>\n",
       "      <td>Other</td>\n",
       "      <td>2.0</td>\n",
       "      <td>0.0</td>\n",
       "      <td>0.0</td>\n",
       "      <td>26.366667</td>\n",
       "      <td>3.0</td>\n",
       "      <td>2.0</td>\n",
       "      <td>NaN</td>\n",
       "    </tr>\n",
       "    <tr>\n",
       "      <th>2713</th>\n",
       "      <td>0</td>\n",
       "      <td>15400</td>\n",
       "      <td>100848.0</td>\n",
       "      <td>129454.0</td>\n",
       "      <td>HomeImp</td>\n",
       "      <td>ProfExe</td>\n",
       "      <td>10.0</td>\n",
       "      <td>0.0</td>\n",
       "      <td>0.0</td>\n",
       "      <td>174.896519</td>\n",
       "      <td>2.0</td>\n",
       "      <td>31.0</td>\n",
       "      <td>28.065591</td>\n",
       "    </tr>\n",
       "    <tr>\n",
       "      <th>815</th>\n",
       "      <td>0</td>\n",
       "      <td>8600</td>\n",
       "      <td>38646.0</td>\n",
       "      <td>54073.0</td>\n",
       "      <td>DebtCon</td>\n",
       "      <td>Other</td>\n",
       "      <td>14.0</td>\n",
       "      <td>0.0</td>\n",
       "      <td>0.0</td>\n",
       "      <td>89.555853</td>\n",
       "      <td>0.0</td>\n",
       "      <td>11.0</td>\n",
       "      <td>32.530257</td>\n",
       "    </tr>\n",
       "    <tr>\n",
       "      <th>5153</th>\n",
       "      <td>0</td>\n",
       "      <td>27700</td>\n",
       "      <td>73148.0</td>\n",
       "      <td>101462.0</td>\n",
       "      <td>DebtCon</td>\n",
       "      <td>ProfExe</td>\n",
       "      <td>10.0</td>\n",
       "      <td>0.0</td>\n",
       "      <td>0.0</td>\n",
       "      <td>264.605389</td>\n",
       "      <td>0.0</td>\n",
       "      <td>33.0</td>\n",
       "      <td>40.475793</td>\n",
       "    </tr>\n",
       "  </tbody>\n",
       "</table>\n",
       "</div>"
      ],
      "text/plain": [
       "      BAD   LOAN   MORTDUE     VALUE   REASON      JOB   YOJ  DEROG  DELINQ  \\\n",
       "4302    0  22400   62354.0   88287.0  DebtCon   Office   3.0    NaN     NaN   \n",
       "1189    1  10000   65000.0   80000.0  DebtCon    Other   2.0    0.0     0.0   \n",
       "2713    0  15400  100848.0  129454.0  HomeImp  ProfExe  10.0    0.0     0.0   \n",
       "815     0   8600   38646.0   54073.0  DebtCon    Other  14.0    0.0     0.0   \n",
       "5153    0  27700   73148.0  101462.0  DebtCon  ProfExe  10.0    0.0     0.0   \n",
       "\n",
       "           CLAGE  NINQ  CLNO    DEBTINC  \n",
       "4302  163.056409   NaN  16.0  37.171396  \n",
       "1189   26.366667   3.0   2.0        NaN  \n",
       "2713  174.896519   2.0  31.0  28.065591  \n",
       "815    89.555853   0.0  11.0  32.530257  \n",
       "5153  264.605389   0.0  33.0  40.475793  "
      ]
     },
     "execution_count": 7,
     "metadata": {},
     "output_type": "execute_result"
    }
   ],
   "source": [
    "# Obtener una muestra aleatoria con una semilla fija\n",
    "df.sample(5, random_state=123)"
   ]
  },
  {
   "cell_type": "code",
   "execution_count": 8,
   "metadata": {},
   "outputs": [
    {
     "name": "stdout",
     "output_type": "stream",
     "text": [
      "Mis datos: <class 'pandas.core.frame.DataFrame'>\n"
     ]
    }
   ],
   "source": [
    "# ¿Qué tipo de objeto es?\n",
    "print('Mis datos:',type(df))"
   ]
  },
  {
   "cell_type": "markdown",
   "metadata": {},
   "source": [
    "En el caso de Pandas tenemos que cada columna de un **DataFrame** tendrá un tipo asociado."
   ]
  },
  {
   "cell_type": "code",
   "execution_count": 9,
   "metadata": {},
   "outputs": [
    {
     "data": {
      "text/plain": [
       "BAD          int64\n",
       "LOAN         int64\n",
       "MORTDUE    float64\n",
       "VALUE      float64\n",
       "REASON      object\n",
       "JOB         object\n",
       "YOJ        float64\n",
       "DEROG      float64\n",
       "DELINQ     float64\n",
       "CLAGE      float64\n",
       "NINQ       float64\n",
       "CLNO       float64\n",
       "DEBTINC    float64\n",
       "dtype: object"
      ]
     },
     "execution_count": 9,
     "metadata": {},
     "output_type": "execute_result"
    }
   ],
   "source": [
    "# ¿Qué contiene este objeto?\n",
    "df.dtypes"
   ]
  },
  {
   "cell_type": "markdown",
   "metadata": {},
   "source": [
    "Al tipo de dato **`object`** lo podemos interpretar como un string."
   ]
  },
  {
   "cell_type": "markdown",
   "metadata": {},
   "source": [
    "Una propiedad muy importante de los **DataFrames** es que están compuestos por filas y columnas, como una tabla de doble entrada. Estos elementos constituyen ***atributos*** de los mismos y se denominan ***índice*** y ***columnas***."
   ]
  },
  {
   "cell_type": "code",
   "execution_count": 10,
   "metadata": {},
   "outputs": [
    {
     "name": "stdout",
     "output_type": "stream",
     "text": [
      "RangeIndex(start=0, stop=5960, step=1)\n"
     ]
    }
   ],
   "source": [
    "print(df.index)"
   ]
  },
  {
   "cell_type": "markdown",
   "metadata": {},
   "source": [
    "## Selección de Columnas de un **`DataFrame`**"
   ]
  },
  {
   "cell_type": "code",
   "execution_count": 11,
   "metadata": {},
   "outputs": [
    {
     "name": "stdout",
     "output_type": "stream",
     "text": [
      "Index(['BAD', 'LOAN', 'MORTDUE', 'VALUE', 'REASON', 'JOB', 'YOJ', 'DEROG',\n",
      "       'DELINQ', 'CLAGE', 'NINQ', 'CLNO', 'DEBTINC'],\n",
      "      dtype='object')\n"
     ]
    }
   ],
   "source": [
    "print(df.columns)"
   ]
  },
  {
   "cell_type": "markdown",
   "metadata": {},
   "source": [
    "Para seleccionar una columna, lo que hacemos es utilizar un par de **`[]`** luego del nombre del DataFrame y dentro de estos le pasamos entre comillas (dobles o simples) el nombre de la columna indicada. Por ejemplo:"
   ]
  },
  {
   "cell_type": "code",
   "execution_count": 12,
   "metadata": {},
   "outputs": [
    {
     "data": {
      "text/plain": [
       "0        Other\n",
       "1        Other\n",
       "2        Other\n",
       "3          NaN\n",
       "4       Office\n",
       "         ...  \n",
       "5955     Other\n",
       "5956     Other\n",
       "5957     Other\n",
       "5958     Other\n",
       "5959     Other\n",
       "Name: JOB, Length: 5960, dtype: object"
      ]
     },
     "execution_count": 12,
     "metadata": {},
     "output_type": "execute_result"
    }
   ],
   "source": [
    "# Seleccionar columnas por nombre\n",
    "df['JOB']"
   ]
  },
  {
   "cell_type": "code",
   "execution_count": 13,
   "metadata": {},
   "outputs": [
    {
     "data": {
      "text/plain": [
       "0        1100\n",
       "1        1300\n",
       "2        1500\n",
       "3        1500\n",
       "4        1700\n",
       "        ...  \n",
       "5955    88900\n",
       "5956    89000\n",
       "5957    89200\n",
       "5958    89800\n",
       "5959    89900\n",
       "Name: LOAN, Length: 5960, dtype: int64"
      ]
     },
     "execution_count": 13,
     "metadata": {},
     "output_type": "execute_result"
    }
   ],
   "source": [
    "# Seleccionar columnas por indice\n",
    "df[df.columns[1]]"
   ]
  },
  {
   "cell_type": "markdown",
   "metadata": {},
   "source": [
    "## Selección de Filas de un **`DataFrame`**\n",
    "\n",
    "Veamos cómo podemos hacer para filtrar filas en un DataFrame. "
   ]
  },
  {
   "cell_type": "code",
   "execution_count": 14,
   "metadata": {},
   "outputs": [
    {
     "data": {
      "text/plain": [
       "BAD              1\n",
       "LOAN          1100\n",
       "MORTDUE      25860\n",
       "VALUE        39025\n",
       "REASON     HomeImp\n",
       "JOB          Other\n",
       "YOJ           10.5\n",
       "DEROG            0\n",
       "DELINQ           0\n",
       "CLAGE      94.3667\n",
       "NINQ             1\n",
       "CLNO             9\n",
       "DEBTINC        NaN\n",
       "Name: 0, dtype: object"
      ]
     },
     "execution_count": 14,
     "metadata": {},
     "output_type": "execute_result"
    }
   ],
   "source": [
    "# Seleccionar filas por índice\n",
    "df.iloc[0]"
   ]
  },
  {
   "cell_type": "code",
   "execution_count": 15,
   "metadata": {},
   "outputs": [
    {
     "data": {
      "text/plain": [
       "0       False\n",
       "1       False\n",
       "2       False\n",
       "3       False\n",
       "4        True\n",
       "        ...  \n",
       "5955     True\n",
       "5956     True\n",
       "5957     True\n",
       "5958     True\n",
       "5959     True\n",
       "Name: BAD, Length: 5960, dtype: bool"
      ]
     },
     "execution_count": 15,
     "metadata": {},
     "output_type": "execute_result"
    }
   ],
   "source": [
    "# Seleccionar filas por condición\n",
    "nombre_columna = \"BAD\"\n",
    "condicion = 0\n",
    "df[nombre_columna]==condicion"
   ]
  },
  {
   "cell_type": "markdown",
   "metadata": {},
   "source": [
    "La comparación anterior nos devuelve una columna llena de valores ***booleanos***. Sabemos que como tipo **`int`**, **`False`** representa el **`0`** y **`True`** el **`1`**. ¿Podremos hacer la suma a lo largo del ***índice*** de esta ***serie***?\n",
    "\n",
    "En Pandas, existe el método **`.sum()`**, que puede aplicarse a DataFrames y Series."
   ]
  },
  {
   "cell_type": "code",
   "execution_count": 16,
   "metadata": {},
   "outputs": [
    {
     "data": {
      "text/plain": [
       "4771"
      ]
     },
     "execution_count": 16,
     "metadata": {},
     "output_type": "execute_result"
    }
   ],
   "source": [
    "(df[nombre_columna]==condicion).sum()"
   ]
  },
  {
   "cell_type": "code",
   "execution_count": 17,
   "metadata": {},
   "outputs": [
    {
     "name": "stdout",
     "output_type": "stream",
     "text": [
      "(5960, 13)\n"
     ]
    }
   ],
   "source": [
    "# Cuántas filas y columnas tienen?\n",
    "print(df.shape) "
   ]
  },
  {
   "cell_type": "code",
   "execution_count": 18,
   "metadata": {},
   "outputs": [
    {
     "name": "stdout",
     "output_type": "stream",
     "text": [
      "Cantidad de valores únicos:  2\n",
      "¿Cuáles son esos valores únicos? [1 0]\n"
     ]
    }
   ],
   "source": [
    "# Ver cantidad de valores únicos en una columnas\n",
    "nombre_columna = \"BAD\"\n",
    "print(\"Cantidad de valores únicos: \", df[nombre_columna].nunique())\n",
    "print(\"¿Cuáles son esos valores únicos?\", df[nombre_columna].unique())"
   ]
  },
  {
   "cell_type": "code",
   "execution_count": 19,
   "metadata": {},
   "outputs": [
    {
     "data": {
      "text/plain": [
       "4527"
      ]
     },
     "execution_count": 19,
     "metadata": {},
     "output_type": "execute_result"
    }
   ],
   "source": [
    "# Ver cantidad de valores que cumplen una condición\n",
    "nombre_columna = \"DEROG\"\n",
    "condicion = 0\n",
    "(df[nombre_columna]==condicion).sum()"
   ]
  },
  {
   "cell_type": "markdown",
   "metadata": {},
   "source": [
    "### Paréntesis: Métodos vs. Atributos\n",
    "\n",
    "Habrán visto que a veces aplicamos al **DataFrame** comandos luego de un punto, y a veces estos terminan en un par de `()` y otras veces no.\n",
    "\n",
    "Esto es porque aquellos que no terminan en `()`, como por ejemplo **`.shape`** o **`.index`**, son ***atributos*** del DataFrame. Es decir, se trata de propiedades asociadas al objeto.\n",
    "\n",
    "Por otro lado, los que terminan en `()`, por ejemplo **`.head()`** o **`.sample()`**, se tratan de ***métodos*** del DataFrame. Es decir, son funciones que se aplican exclusivamente a este tipo de objetos.\n"
   ]
  },
  {
   "cell_type": "code",
   "execution_count": null,
   "metadata": {},
   "outputs": [],
   "source": []
  },
  {
   "cell_type": "markdown",
   "metadata": {},
   "source": [
    "## Limpieza de **`DataFrames`**"
   ]
  },
  {
   "cell_type": "code",
   "execution_count": 20,
   "metadata": {},
   "outputs": [],
   "source": [
    "# El significado de la variable \"DEBTINC\" no está clara. Por lo que se excluye del análisis\n",
    "df.drop('DEBTINC', axis=1, inplace=True) "
   ]
  },
  {
   "cell_type": "code",
   "execution_count": 21,
   "metadata": {},
   "outputs": [
    {
     "data": {
      "text/html": [
       "<div>\n",
       "<style scoped>\n",
       "    .dataframe tbody tr th:only-of-type {\n",
       "        vertical-align: middle;\n",
       "    }\n",
       "\n",
       "    .dataframe tbody tr th {\n",
       "        vertical-align: top;\n",
       "    }\n",
       "\n",
       "    .dataframe thead th {\n",
       "        text-align: right;\n",
       "    }\n",
       "</style>\n",
       "<table border=\"1\" class=\"dataframe\">\n",
       "  <thead>\n",
       "    <tr style=\"text-align: right;\">\n",
       "      <th></th>\n",
       "      <th>BAD</th>\n",
       "      <th>LOAN</th>\n",
       "      <th>MORTDUE</th>\n",
       "      <th>VALUE</th>\n",
       "      <th>REASON</th>\n",
       "      <th>JOB</th>\n",
       "      <th>YOJ</th>\n",
       "      <th>DEROG</th>\n",
       "      <th>DELINQ</th>\n",
       "      <th>CLAGE</th>\n",
       "      <th>NINQ</th>\n",
       "      <th>CLNO</th>\n",
       "    </tr>\n",
       "  </thead>\n",
       "  <tbody>\n",
       "    <tr>\n",
       "      <th>0</th>\n",
       "      <td>1</td>\n",
       "      <td>1100</td>\n",
       "      <td>25860.0</td>\n",
       "      <td>39025.0</td>\n",
       "      <td>HomeImp</td>\n",
       "      <td>Other</td>\n",
       "      <td>10.5</td>\n",
       "      <td>0.0</td>\n",
       "      <td>0.0</td>\n",
       "      <td>94.366667</td>\n",
       "      <td>1.0</td>\n",
       "      <td>9.0</td>\n",
       "    </tr>\n",
       "    <tr>\n",
       "      <th>1</th>\n",
       "      <td>1</td>\n",
       "      <td>1300</td>\n",
       "      <td>70053.0</td>\n",
       "      <td>68400.0</td>\n",
       "      <td>HomeImp</td>\n",
       "      <td>Other</td>\n",
       "      <td>7.0</td>\n",
       "      <td>0.0</td>\n",
       "      <td>2.0</td>\n",
       "      <td>121.833333</td>\n",
       "      <td>0.0</td>\n",
       "      <td>14.0</td>\n",
       "    </tr>\n",
       "    <tr>\n",
       "      <th>2</th>\n",
       "      <td>1</td>\n",
       "      <td>1500</td>\n",
       "      <td>13500.0</td>\n",
       "      <td>16700.0</td>\n",
       "      <td>HomeImp</td>\n",
       "      <td>Other</td>\n",
       "      <td>4.0</td>\n",
       "      <td>0.0</td>\n",
       "      <td>0.0</td>\n",
       "      <td>149.466667</td>\n",
       "      <td>1.0</td>\n",
       "      <td>10.0</td>\n",
       "    </tr>\n",
       "    <tr>\n",
       "      <th>3</th>\n",
       "      <td>1</td>\n",
       "      <td>1500</td>\n",
       "      <td>NaN</td>\n",
       "      <td>NaN</td>\n",
       "      <td>NaN</td>\n",
       "      <td>NaN</td>\n",
       "      <td>NaN</td>\n",
       "      <td>NaN</td>\n",
       "      <td>NaN</td>\n",
       "      <td>NaN</td>\n",
       "      <td>NaN</td>\n",
       "      <td>NaN</td>\n",
       "    </tr>\n",
       "    <tr>\n",
       "      <th>4</th>\n",
       "      <td>0</td>\n",
       "      <td>1700</td>\n",
       "      <td>97800.0</td>\n",
       "      <td>112000.0</td>\n",
       "      <td>HomeImp</td>\n",
       "      <td>Office</td>\n",
       "      <td>3.0</td>\n",
       "      <td>0.0</td>\n",
       "      <td>0.0</td>\n",
       "      <td>93.333333</td>\n",
       "      <td>0.0</td>\n",
       "      <td>14.0</td>\n",
       "    </tr>\n",
       "  </tbody>\n",
       "</table>\n",
       "</div>"
      ],
      "text/plain": [
       "   BAD  LOAN  MORTDUE     VALUE   REASON     JOB   YOJ  DEROG  DELINQ  \\\n",
       "0    1  1100  25860.0   39025.0  HomeImp   Other  10.5    0.0     0.0   \n",
       "1    1  1300  70053.0   68400.0  HomeImp   Other   7.0    0.0     2.0   \n",
       "2    1  1500  13500.0   16700.0  HomeImp   Other   4.0    0.0     0.0   \n",
       "3    1  1500      NaN       NaN      NaN     NaN   NaN    NaN     NaN   \n",
       "4    0  1700  97800.0  112000.0  HomeImp  Office   3.0    0.0     0.0   \n",
       "\n",
       "        CLAGE  NINQ  CLNO  \n",
       "0   94.366667   1.0   9.0  \n",
       "1  121.833333   0.0  14.0  \n",
       "2  149.466667   1.0  10.0  \n",
       "3         NaN   NaN   NaN  \n",
       "4   93.333333   0.0  14.0  "
      ]
     },
     "execution_count": 21,
     "metadata": {},
     "output_type": "execute_result"
    }
   ],
   "source": [
    "df.head()"
   ]
  },
  {
   "cell_type": "code",
   "execution_count": 22,
   "metadata": {},
   "outputs": [
    {
     "data": {
      "text/plain": [
       "518"
      ]
     },
     "execution_count": 22,
     "metadata": {},
     "output_type": "execute_result"
    }
   ],
   "source": [
    "# Ver si hay valores faltantes\n",
    "nombre_columna = \"MORTDUE\"\n",
    "df[nombre_columna].isnull().sum()"
   ]
  },
  {
   "cell_type": "code",
   "execution_count": 23,
   "metadata": {
    "scrolled": true
   },
   "outputs": [
    {
     "name": "stdout",
     "output_type": "stream",
     "text": [
      "En la columna BAD hay 0 datos faltantes.\n",
      "En la columna LOAN hay 0 datos faltantes.\n",
      "En la columna MORTDUE hay 518 datos faltantes.\n",
      "En la columna VALUE hay 112 datos faltantes.\n",
      "En la columna REASON hay 252 datos faltantes.\n",
      "En la columna JOB hay 279 datos faltantes.\n",
      "En la columna YOJ hay 515 datos faltantes.\n",
      "En la columna DEROG hay 708 datos faltantes.\n",
      "En la columna DELINQ hay 580 datos faltantes.\n",
      "En la columna CLAGE hay 308 datos faltantes.\n",
      "En la columna NINQ hay 510 datos faltantes.\n",
      "En la columna CLNO hay 222 datos faltantes.\n"
     ]
    }
   ],
   "source": [
    "for col in df.columns:\n",
    "    print(\"En la columna\", col , \"hay\", df[col].isnull().sum(), \"datos faltantes.\")"
   ]
  },
  {
   "cell_type": "code",
   "execution_count": 24,
   "metadata": {},
   "outputs": [],
   "source": [
    "# Eliminar una fila con valores nulos\n",
    "df.dropna(axis=0, how='any', inplace=True)"
   ]
  },
  {
   "cell_type": "code",
   "execution_count": 25,
   "metadata": {},
   "outputs": [
    {
     "data": {
      "text/plain": [
       "(4247, 12)"
      ]
     },
     "execution_count": 25,
     "metadata": {},
     "output_type": "execute_result"
    }
   ],
   "source": [
    "df.shape"
   ]
  },
  {
   "cell_type": "markdown",
   "metadata": {},
   "source": [
    "A continuación creamos una nueva columna **`STATUS`** para diferenciar mejor la situación de cada solicitante."
   ]
  },
  {
   "cell_type": "code",
   "execution_count": 26,
   "metadata": {},
   "outputs": [],
   "source": [
    "df.loc[df.BAD == 1, 'STATUS'] = 'DEFAULT'\n",
    "df.loc[df.BAD == 0, 'STATUS'] = 'PAID'"
   ]
  },
  {
   "cell_type": "code",
   "execution_count": 27,
   "metadata": {},
   "outputs": [
    {
     "data": {
      "text/html": [
       "<div>\n",
       "<style scoped>\n",
       "    .dataframe tbody tr th:only-of-type {\n",
       "        vertical-align: middle;\n",
       "    }\n",
       "\n",
       "    .dataframe tbody tr th {\n",
       "        vertical-align: top;\n",
       "    }\n",
       "\n",
       "    .dataframe thead th {\n",
       "        text-align: right;\n",
       "    }\n",
       "</style>\n",
       "<table border=\"1\" class=\"dataframe\">\n",
       "  <thead>\n",
       "    <tr style=\"text-align: right;\">\n",
       "      <th></th>\n",
       "      <th>BAD</th>\n",
       "      <th>LOAN</th>\n",
       "      <th>MORTDUE</th>\n",
       "      <th>VALUE</th>\n",
       "      <th>REASON</th>\n",
       "      <th>JOB</th>\n",
       "      <th>YOJ</th>\n",
       "      <th>DEROG</th>\n",
       "      <th>DELINQ</th>\n",
       "      <th>CLAGE</th>\n",
       "      <th>NINQ</th>\n",
       "      <th>CLNO</th>\n",
       "      <th>STATUS</th>\n",
       "    </tr>\n",
       "  </thead>\n",
       "  <tbody>\n",
       "    <tr>\n",
       "      <th>0</th>\n",
       "      <td>1</td>\n",
       "      <td>1100</td>\n",
       "      <td>25860.0</td>\n",
       "      <td>39025.0</td>\n",
       "      <td>HomeImp</td>\n",
       "      <td>Other</td>\n",
       "      <td>10.5</td>\n",
       "      <td>0.0</td>\n",
       "      <td>0.0</td>\n",
       "      <td>94.366667</td>\n",
       "      <td>1.0</td>\n",
       "      <td>9.0</td>\n",
       "      <td>DEFAULT</td>\n",
       "    </tr>\n",
       "    <tr>\n",
       "      <th>1</th>\n",
       "      <td>1</td>\n",
       "      <td>1300</td>\n",
       "      <td>70053.0</td>\n",
       "      <td>68400.0</td>\n",
       "      <td>HomeImp</td>\n",
       "      <td>Other</td>\n",
       "      <td>7.0</td>\n",
       "      <td>0.0</td>\n",
       "      <td>2.0</td>\n",
       "      <td>121.833333</td>\n",
       "      <td>0.0</td>\n",
       "      <td>14.0</td>\n",
       "      <td>DEFAULT</td>\n",
       "    </tr>\n",
       "    <tr>\n",
       "      <th>2</th>\n",
       "      <td>1</td>\n",
       "      <td>1500</td>\n",
       "      <td>13500.0</td>\n",
       "      <td>16700.0</td>\n",
       "      <td>HomeImp</td>\n",
       "      <td>Other</td>\n",
       "      <td>4.0</td>\n",
       "      <td>0.0</td>\n",
       "      <td>0.0</td>\n",
       "      <td>149.466667</td>\n",
       "      <td>1.0</td>\n",
       "      <td>10.0</td>\n",
       "      <td>DEFAULT</td>\n",
       "    </tr>\n",
       "    <tr>\n",
       "      <th>4</th>\n",
       "      <td>0</td>\n",
       "      <td>1700</td>\n",
       "      <td>97800.0</td>\n",
       "      <td>112000.0</td>\n",
       "      <td>HomeImp</td>\n",
       "      <td>Office</td>\n",
       "      <td>3.0</td>\n",
       "      <td>0.0</td>\n",
       "      <td>0.0</td>\n",
       "      <td>93.333333</td>\n",
       "      <td>0.0</td>\n",
       "      <td>14.0</td>\n",
       "      <td>PAID</td>\n",
       "    </tr>\n",
       "    <tr>\n",
       "      <th>5</th>\n",
       "      <td>1</td>\n",
       "      <td>1700</td>\n",
       "      <td>30548.0</td>\n",
       "      <td>40320.0</td>\n",
       "      <td>HomeImp</td>\n",
       "      <td>Other</td>\n",
       "      <td>9.0</td>\n",
       "      <td>0.0</td>\n",
       "      <td>0.0</td>\n",
       "      <td>101.466002</td>\n",
       "      <td>1.0</td>\n",
       "      <td>8.0</td>\n",
       "      <td>DEFAULT</td>\n",
       "    </tr>\n",
       "  </tbody>\n",
       "</table>\n",
       "</div>"
      ],
      "text/plain": [
       "   BAD  LOAN  MORTDUE     VALUE   REASON     JOB   YOJ  DEROG  DELINQ  \\\n",
       "0    1  1100  25860.0   39025.0  HomeImp   Other  10.5    0.0     0.0   \n",
       "1    1  1300  70053.0   68400.0  HomeImp   Other   7.0    0.0     2.0   \n",
       "2    1  1500  13500.0   16700.0  HomeImp   Other   4.0    0.0     0.0   \n",
       "4    0  1700  97800.0  112000.0  HomeImp  Office   3.0    0.0     0.0   \n",
       "5    1  1700  30548.0   40320.0  HomeImp   Other   9.0    0.0     0.0   \n",
       "\n",
       "        CLAGE  NINQ  CLNO   STATUS  \n",
       "0   94.366667   1.0   9.0  DEFAULT  \n",
       "1  121.833333   0.0  14.0  DEFAULT  \n",
       "2  149.466667   1.0  10.0  DEFAULT  \n",
       "4   93.333333   0.0  14.0     PAID  \n",
       "5  101.466002   1.0   8.0  DEFAULT  "
      ]
     },
     "execution_count": 27,
     "metadata": {},
     "output_type": "execute_result"
    }
   ],
   "source": [
    "df.head()"
   ]
  },
  {
   "cell_type": "code",
   "execution_count": null,
   "metadata": {},
   "outputs": [],
   "source": []
  },
  {
   "cell_type": "markdown",
   "metadata": {},
   "source": [
    "## Continuamos con la exploración de **`DataFrames`**"
   ]
  },
  {
   "cell_type": "markdown",
   "metadata": {},
   "source": [
    "### ¿Cuál es la Relación con Numpy?\n",
    "\n",
    "Otro de los atributos que tiene un DataFrame es **`.values`**. Averigüemos de qué se trata:"
   ]
  },
  {
   "cell_type": "code",
   "execution_count": 28,
   "metadata": {},
   "outputs": [
    {
     "name": "stdout",
     "output_type": "stream",
     "text": [
      "[[1 1100 25860.0 ... 1.0 9.0 'DEFAULT']\n",
      " [1 1300 70053.0 ... 0.0 14.0 'DEFAULT']\n",
      " [1 1500 13500.0 ... 1.0 10.0 'DEFAULT']\n",
      " ...\n",
      " [0 89200 54045.0 ... 0.0 15.0 'PAID']\n",
      " [0 89800 50370.0 ... 0.0 16.0 'PAID']\n",
      " [0 89900 48811.0 ... 0.0 16.0 'PAID']]\n"
     ]
    }
   ],
   "source": [
    "print(df.values)"
   ]
  },
  {
   "cell_type": "code",
   "execution_count": 29,
   "metadata": {},
   "outputs": [
    {
     "name": "stdout",
     "output_type": "stream",
     "text": [
      "<class 'numpy.ndarray'>\n"
     ]
    }
   ],
   "source": [
    "print(type(df.values))"
   ]
  },
  {
   "cell_type": "markdown",
   "metadata": {},
   "source": [
    "Y no solo el DataFrame tiene este atributo, sino otros objetos, como los índices y columnas también! Veamos un poco:"
   ]
  },
  {
   "cell_type": "code",
   "execution_count": 30,
   "metadata": {},
   "outputs": [
    {
     "name": "stdout",
     "output_type": "stream",
     "text": [
      "<class 'pandas.core.indexes.base.Index'>\n",
      "['BAD' 'LOAN' 'MORTDUE' 'VALUE' 'REASON' 'JOB' 'YOJ' 'DEROG' 'DELINQ'\n",
      " 'CLAGE' 'NINQ' 'CLNO' 'STATUS']\n",
      "<class 'numpy.ndarray'>\n"
     ]
    }
   ],
   "source": [
    "print(type(df.columns))\n",
    "print(df.columns.values)\n",
    "print(type(df.columns.values))"
   ]
  },
  {
   "cell_type": "markdown",
   "metadata": {},
   "source": [
    "A esto nos referimos cuando decimos que Pandas está construído sobre la base de Numpy!"
   ]
  },
  {
   "cell_type": "code",
   "execution_count": null,
   "metadata": {},
   "outputs": [],
   "source": []
  },
  {
   "cell_type": "markdown",
   "metadata": {},
   "source": [
    "Recuerdan que en las primeras clases habíamos visto los operadores **`and`**, **`or`** y **`not`**? En Pandas podemos usar los mismos operadores, utilizando los siguiente símbolos:\n",
    "\n",
    "- and: **`&`**\n",
    "- or: **`|`**\n",
    "- not: **`~`**\n",
    "\n",
    "Para negar una columna de *booleanos*, utilizaremos **`~`**."
   ]
  },
  {
   "cell_type": "code",
   "execution_count": 31,
   "metadata": {},
   "outputs": [
    {
     "data": {
      "text/plain": [
       "2588"
      ]
     },
     "execution_count": 31,
     "metadata": {},
     "output_type": "execute_result"
    }
   ],
   "source": [
    "(~(df['JOB'] == \"Other\")).sum()"
   ]
  },
  {
   "cell_type": "code",
   "execution_count": 32,
   "metadata": {},
   "outputs": [
    {
     "data": {
      "text/plain": [
       "0"
      ]
     },
     "execution_count": 32,
     "metadata": {},
     "output_type": "execute_result"
    }
   ],
   "source": [
    "(df['JOB'].str.isnumeric()).sum()"
   ]
  },
  {
   "cell_type": "markdown",
   "metadata": {},
   "source": [
    "## Máscaras sobre un **`DataFrame`**"
   ]
  },
  {
   "cell_type": "markdown",
   "metadata": {},
   "source": [
    "Si queremos filtrar filas que nos interesan primero vamos a tener que generar una ***máscara*** o serie de valores con un indicador **`True`** o **`False`** para cada fila del DataFrame, donde **`True`** quedará asignado a las filas que queremos mantener:"
   ]
  },
  {
   "cell_type": "code",
   "execution_count": 33,
   "metadata": {},
   "outputs": [],
   "source": [
    "# Aquí definimos una máscara\n",
    "filas_mora = df['BAD'] == 1"
   ]
  },
  {
   "cell_type": "code",
   "execution_count": 34,
   "metadata": {},
   "outputs": [
    {
     "data": {
      "text/plain": [
       "0        True\n",
       "1        True\n",
       "2        True\n",
       "4       False\n",
       "5        True\n",
       "        ...  \n",
       "5955    False\n",
       "5956    False\n",
       "5957    False\n",
       "5958    False\n",
       "5959    False\n",
       "Name: BAD, Length: 4247, dtype: bool"
      ]
     },
     "execution_count": 34,
     "metadata": {},
     "output_type": "execute_result"
    }
   ],
   "source": [
    "filas_mora"
   ]
  },
  {
   "cell_type": "markdown",
   "metadata": {},
   "source": [
    "Para obtener nuestro DataFrame filtrado, aplicamos esta máscara sobre nuestro DataFrame original, utilizando **`[]`**."
   ]
  },
  {
   "cell_type": "code",
   "execution_count": 35,
   "metadata": {},
   "outputs": [
    {
     "name": "stdout",
     "output_type": "stream",
     "text": [
      "Shape df           (4247, 13)\n",
      "Shape df_filtrado   (840, 13)\n",
      "Filas eliminadas        3407\n"
     ]
    }
   ],
   "source": [
    "df_filtrado = df[filas_mora]\n",
    "print('Shape df          ', df.shape)\n",
    "print('Shape df_filtrado  ', df_filtrado.shape)\n",
    "print('Filas eliminadas       ', df.shape[0]-df_filtrado.shape[0])"
   ]
  },
  {
   "cell_type": "markdown",
   "metadata": {},
   "source": [
    "## Operaciones y Estadísticas Sobre los Datos de un **`DataFrame`**\n",
    "\n",
    "Veamos algunas operaciones que podemos realizar con DataFrames y cómo obtener estadísticas sobre los datos."
   ]
  },
  {
   "cell_type": "code",
   "execution_count": 36,
   "metadata": {},
   "outputs": [
    {
     "data": {
      "text/plain": [
       "0    3407\n",
       "1     840\n",
       "Name: BAD, dtype: int64"
      ]
     },
     "execution_count": 36,
     "metadata": {},
     "output_type": "execute_result"
    }
   ],
   "source": [
    "# Frecuencia de variables BAD\n",
    "df['BAD'].value_counts()"
   ]
  },
  {
   "cell_type": "code",
   "execution_count": 37,
   "metadata": {},
   "outputs": [
    {
     "data": {
      "text/plain": [
       "Other      1659\n",
       "ProfExe    1106\n",
       "Office      693\n",
       "Mgr         583\n",
       "Self        132\n",
       "Sales        74\n",
       "Name: JOB, dtype: int64"
      ]
     },
     "execution_count": 37,
     "metadata": {},
     "output_type": "execute_result"
    }
   ],
   "source": [
    "df['JOB'].value_counts()"
   ]
  },
  {
   "cell_type": "markdown",
   "metadata": {},
   "source": [
    "Si queremos conocer la frecuencia de moras según el trabajo, por ejemplo, podemos utilizar un método que nos permite agrupar por claves, **`.groupby()`**. Veamos cómo se utiliza:"
   ]
  },
  {
   "cell_type": "code",
   "execution_count": 38,
   "metadata": {},
   "outputs": [
    {
     "data": {
      "text/html": [
       "<div>\n",
       "<style scoped>\n",
       "    .dataframe tbody tr th:only-of-type {\n",
       "        vertical-align: middle;\n",
       "    }\n",
       "\n",
       "    .dataframe tbody tr th {\n",
       "        vertical-align: top;\n",
       "    }\n",
       "\n",
       "    .dataframe thead th {\n",
       "        text-align: right;\n",
       "    }\n",
       "</style>\n",
       "<table border=\"1\" class=\"dataframe\">\n",
       "  <thead>\n",
       "    <tr style=\"text-align: right;\">\n",
       "      <th></th>\n",
       "      <th>JOB</th>\n",
       "      <th>BAD</th>\n",
       "    </tr>\n",
       "  </thead>\n",
       "  <tbody>\n",
       "    <tr>\n",
       "      <th>2</th>\n",
       "      <td>Other</td>\n",
       "      <td>1659</td>\n",
       "    </tr>\n",
       "    <tr>\n",
       "      <th>3</th>\n",
       "      <td>ProfExe</td>\n",
       "      <td>1106</td>\n",
       "    </tr>\n",
       "    <tr>\n",
       "      <th>1</th>\n",
       "      <td>Office</td>\n",
       "      <td>693</td>\n",
       "    </tr>\n",
       "    <tr>\n",
       "      <th>0</th>\n",
       "      <td>Mgr</td>\n",
       "      <td>583</td>\n",
       "    </tr>\n",
       "    <tr>\n",
       "      <th>5</th>\n",
       "      <td>Self</td>\n",
       "      <td>132</td>\n",
       "    </tr>\n",
       "    <tr>\n",
       "      <th>4</th>\n",
       "      <td>Sales</td>\n",
       "      <td>74</td>\n",
       "    </tr>\n",
       "  </tbody>\n",
       "</table>\n",
       "</div>"
      ],
      "text/plain": [
       "       JOB   BAD\n",
       "2    Other  1659\n",
       "3  ProfExe  1106\n",
       "1   Office   693\n",
       "0      Mgr   583\n",
       "5     Self   132\n",
       "4    Sales    74"
      ]
     },
     "execution_count": 38,
     "metadata": {},
     "output_type": "execute_result"
    }
   ],
   "source": [
    "mora_segun_trabajo = df.groupby(\n",
    "    by = ['JOB'],\n",
    "    as_index = False\n",
    "    )['BAD'].count().sort_values(['BAD'], ascending = False)\n",
    "\n",
    "mora_segun_trabajo"
   ]
  },
  {
   "cell_type": "code",
   "execution_count": 39,
   "metadata": {},
   "outputs": [
    {
     "data": {
      "text/html": [
       "<div>\n",
       "<style scoped>\n",
       "    .dataframe tbody tr th:only-of-type {\n",
       "        vertical-align: middle;\n",
       "    }\n",
       "\n",
       "    .dataframe tbody tr th {\n",
       "        vertical-align: top;\n",
       "    }\n",
       "\n",
       "    .dataframe thead th {\n",
       "        text-align: right;\n",
       "    }\n",
       "</style>\n",
       "<table border=\"1\" class=\"dataframe\">\n",
       "  <thead>\n",
       "    <tr style=\"text-align: right;\">\n",
       "      <th></th>\n",
       "      <th>JOB</th>\n",
       "      <th>YOJ</th>\n",
       "      <th>BAD</th>\n",
       "    </tr>\n",
       "  </thead>\n",
       "  <tbody>\n",
       "    <tr>\n",
       "      <th>97</th>\n",
       "      <td>Other</td>\n",
       "      <td>0.0</td>\n",
       "      <td>148</td>\n",
       "    </tr>\n",
       "    <tr>\n",
       "      <th>107</th>\n",
       "      <td>Other</td>\n",
       "      <td>1.0</td>\n",
       "      <td>117</td>\n",
       "    </tr>\n",
       "    <tr>\n",
       "      <th>112</th>\n",
       "      <td>Other</td>\n",
       "      <td>2.0</td>\n",
       "      <td>106</td>\n",
       "    </tr>\n",
       "    <tr>\n",
       "      <th>118</th>\n",
       "      <td>Other</td>\n",
       "      <td>4.0</td>\n",
       "      <td>96</td>\n",
       "    </tr>\n",
       "    <tr>\n",
       "      <th>121</th>\n",
       "      <td>Other</td>\n",
       "      <td>5.0</td>\n",
       "      <td>91</td>\n",
       "    </tr>\n",
       "    <tr>\n",
       "      <th>191</th>\n",
       "      <td>ProfExe</td>\n",
       "      <td>6.0</td>\n",
       "      <td>83</td>\n",
       "    </tr>\n",
       "    <tr>\n",
       "      <th>114</th>\n",
       "      <td>Other</td>\n",
       "      <td>3.0</td>\n",
       "      <td>81</td>\n",
       "    </tr>\n",
       "    <tr>\n",
       "      <th>125</th>\n",
       "      <td>Other</td>\n",
       "      <td>6.0</td>\n",
       "      <td>77</td>\n",
       "    </tr>\n",
       "    <tr>\n",
       "      <th>133</th>\n",
       "      <td>Other</td>\n",
       "      <td>9.0</td>\n",
       "      <td>76</td>\n",
       "    </tr>\n",
       "    <tr>\n",
       "      <th>186</th>\n",
       "      <td>ProfExe</td>\n",
       "      <td>4.0</td>\n",
       "      <td>76</td>\n",
       "    </tr>\n",
       "  </tbody>\n",
       "</table>\n",
       "</div>"
      ],
      "text/plain": [
       "         JOB  YOJ  BAD\n",
       "97     Other  0.0  148\n",
       "107    Other  1.0  117\n",
       "112    Other  2.0  106\n",
       "118    Other  4.0   96\n",
       "121    Other  5.0   91\n",
       "191  ProfExe  6.0   83\n",
       "114    Other  3.0   81\n",
       "125    Other  6.0   77\n",
       "133    Other  9.0   76\n",
       "186  ProfExe  4.0   76"
      ]
     },
     "execution_count": 39,
     "metadata": {},
     "output_type": "execute_result"
    }
   ],
   "source": [
    "mora_segun_trabajo_y_antig = df.groupby(\n",
    "    by = ['JOB', 'YOJ'],\n",
    "    as_index = False\n",
    "    )['BAD'].count().sort_values(['BAD'], ascending = False)\n",
    "\n",
    "mora_segun_trabajo_y_antig.head(10)"
   ]
  },
  {
   "cell_type": "markdown",
   "metadata": {},
   "source": [
    "Otra forma..."
   ]
  },
  {
   "cell_type": "code",
   "execution_count": 40,
   "metadata": {},
   "outputs": [
    {
     "data": {
      "text/html": [
       "<style  type=\"text/css\" >\n",
       "</style><table id=\"T_93ab7ab0_cf41_11ec_81db_cdfe03d4bcf9\" ><thead>    <tr>        <th class=\"blank\" ></th>        <th class=\"blank level0\" ></th>        <th class=\"col_heading level0 col0\" >BAD</th>    </tr>    <tr>        <th class=\"index_name level0\" >JOB</th>        <th class=\"index_name level1\" >BAD</th>        <th class=\"blank\" ></th>    </tr></thead><tbody>\n",
       "                <tr>\n",
       "                        <th id=\"T_93ab7ab0_cf41_11ec_81db_cdfe03d4bcf9level0_row0\" class=\"row_heading level0 row0\" rowspan=2>Mgr</th>\n",
       "                        <th id=\"T_93ab7ab0_cf41_11ec_81db_cdfe03d4bcf9level1_row0\" class=\"row_heading level1 row0\" >0</th>\n",
       "                        <td id=\"T_93ab7ab0_cf41_11ec_81db_cdfe03d4bcf9row0_col0\" class=\"data row0 col0\" >77.2%</td>\n",
       "            </tr>\n",
       "            <tr>\n",
       "                                <th id=\"T_93ab7ab0_cf41_11ec_81db_cdfe03d4bcf9level1_row1\" class=\"row_heading level1 row1\" >1</th>\n",
       "                        <td id=\"T_93ab7ab0_cf41_11ec_81db_cdfe03d4bcf9row1_col0\" class=\"data row1 col0\" >22.8%</td>\n",
       "            </tr>\n",
       "            <tr>\n",
       "                        <th id=\"T_93ab7ab0_cf41_11ec_81db_cdfe03d4bcf9level0_row2\" class=\"row_heading level0 row2\" rowspan=2>Office</th>\n",
       "                        <th id=\"T_93ab7ab0_cf41_11ec_81db_cdfe03d4bcf9level1_row2\" class=\"row_heading level1 row2\" >0</th>\n",
       "                        <td id=\"T_93ab7ab0_cf41_11ec_81db_cdfe03d4bcf9row2_col0\" class=\"data row2 col0\" >86.3%</td>\n",
       "            </tr>\n",
       "            <tr>\n",
       "                                <th id=\"T_93ab7ab0_cf41_11ec_81db_cdfe03d4bcf9level1_row3\" class=\"row_heading level1 row3\" >1</th>\n",
       "                        <td id=\"T_93ab7ab0_cf41_11ec_81db_cdfe03d4bcf9row3_col0\" class=\"data row3 col0\" >13.7%</td>\n",
       "            </tr>\n",
       "            <tr>\n",
       "                        <th id=\"T_93ab7ab0_cf41_11ec_81db_cdfe03d4bcf9level0_row4\" class=\"row_heading level0 row4\" rowspan=2>Other</th>\n",
       "                        <th id=\"T_93ab7ab0_cf41_11ec_81db_cdfe03d4bcf9level1_row4\" class=\"row_heading level1 row4\" >0</th>\n",
       "                        <td id=\"T_93ab7ab0_cf41_11ec_81db_cdfe03d4bcf9row4_col0\" class=\"data row4 col0\" >77.2%</td>\n",
       "            </tr>\n",
       "            <tr>\n",
       "                                <th id=\"T_93ab7ab0_cf41_11ec_81db_cdfe03d4bcf9level1_row5\" class=\"row_heading level1 row5\" >1</th>\n",
       "                        <td id=\"T_93ab7ab0_cf41_11ec_81db_cdfe03d4bcf9row5_col0\" class=\"data row5 col0\" >22.8%</td>\n",
       "            </tr>\n",
       "            <tr>\n",
       "                        <th id=\"T_93ab7ab0_cf41_11ec_81db_cdfe03d4bcf9level0_row6\" class=\"row_heading level0 row6\" rowspan=2>ProfExe</th>\n",
       "                        <th id=\"T_93ab7ab0_cf41_11ec_81db_cdfe03d4bcf9level1_row6\" class=\"row_heading level1 row6\" >0</th>\n",
       "                        <td id=\"T_93ab7ab0_cf41_11ec_81db_cdfe03d4bcf9row6_col0\" class=\"data row6 col0\" >85.0%</td>\n",
       "            </tr>\n",
       "            <tr>\n",
       "                                <th id=\"T_93ab7ab0_cf41_11ec_81db_cdfe03d4bcf9level1_row7\" class=\"row_heading level1 row7\" >1</th>\n",
       "                        <td id=\"T_93ab7ab0_cf41_11ec_81db_cdfe03d4bcf9row7_col0\" class=\"data row7 col0\" >15.0%</td>\n",
       "            </tr>\n",
       "            <tr>\n",
       "                        <th id=\"T_93ab7ab0_cf41_11ec_81db_cdfe03d4bcf9level0_row8\" class=\"row_heading level0 row8\" rowspan=2>Sales</th>\n",
       "                        <th id=\"T_93ab7ab0_cf41_11ec_81db_cdfe03d4bcf9level1_row8\" class=\"row_heading level1 row8\" >0</th>\n",
       "                        <td id=\"T_93ab7ab0_cf41_11ec_81db_cdfe03d4bcf9row8_col0\" class=\"data row8 col0\" >59.5%</td>\n",
       "            </tr>\n",
       "            <tr>\n",
       "                                <th id=\"T_93ab7ab0_cf41_11ec_81db_cdfe03d4bcf9level1_row9\" class=\"row_heading level1 row9\" >1</th>\n",
       "                        <td id=\"T_93ab7ab0_cf41_11ec_81db_cdfe03d4bcf9row9_col0\" class=\"data row9 col0\" >40.5%</td>\n",
       "            </tr>\n",
       "            <tr>\n",
       "                        <th id=\"T_93ab7ab0_cf41_11ec_81db_cdfe03d4bcf9level0_row10\" class=\"row_heading level0 row10\" rowspan=2>Self</th>\n",
       "                        <th id=\"T_93ab7ab0_cf41_11ec_81db_cdfe03d4bcf9level1_row10\" class=\"row_heading level1 row10\" >0</th>\n",
       "                        <td id=\"T_93ab7ab0_cf41_11ec_81db_cdfe03d4bcf9row10_col0\" class=\"data row10 col0\" >71.2%</td>\n",
       "            </tr>\n",
       "            <tr>\n",
       "                                <th id=\"T_93ab7ab0_cf41_11ec_81db_cdfe03d4bcf9level1_row11\" class=\"row_heading level1 row11\" >1</th>\n",
       "                        <td id=\"T_93ab7ab0_cf41_11ec_81db_cdfe03d4bcf9row11_col0\" class=\"data row11 col0\" >28.8%</td>\n",
       "            </tr>\n",
       "    </tbody></table>"
      ],
      "text/plain": [
       "<pandas.io.formats.style.Styler at 0x7ff08630df90>"
      ]
     },
     "execution_count": 40,
     "metadata": {},
     "output_type": "execute_result"
    }
   ],
   "source": [
    "mora_segun_trabajo_porcentaje = df.groupby(\n",
    "    by = ['JOB'],\n",
    "    )['BAD'].value_counts(normalize=True).to_frame().style.format(\"{:.1%}\")\n",
    "\n",
    "mora_segun_trabajo_porcentaje"
   ]
  },
  {
   "cell_type": "code",
   "execution_count": 41,
   "metadata": {},
   "outputs": [
    {
     "data": {
      "text/plain": [
       "74572.23175653402"
      ]
     },
     "execution_count": 41,
     "metadata": {},
     "output_type": "execute_result"
    }
   ],
   "source": [
    "df['MORTDUE'].mean()"
   ]
  },
  {
   "cell_type": "markdown",
   "metadata": {},
   "source": [
    "A continuación, veamos cómo podemos cambiar el nombre de una columna"
   ]
  },
  {
   "cell_type": "code",
   "execution_count": 42,
   "metadata": {},
   "outputs": [
    {
     "data": {
      "text/html": [
       "<div>\n",
       "<style scoped>\n",
       "    .dataframe tbody tr th:only-of-type {\n",
       "        vertical-align: middle;\n",
       "    }\n",
       "\n",
       "    .dataframe tbody tr th {\n",
       "        vertical-align: top;\n",
       "    }\n",
       "\n",
       "    .dataframe thead th {\n",
       "        text-align: right;\n",
       "    }\n",
       "</style>\n",
       "<table border=\"1\" class=\"dataframe\">\n",
       "  <thead>\n",
       "    <tr style=\"text-align: right;\">\n",
       "      <th></th>\n",
       "      <th>BAD</th>\n",
       "      <th>LOAN</th>\n",
       "      <th>MORTDUE</th>\n",
       "      <th>VALUE</th>\n",
       "      <th>REASON</th>\n",
       "      <th>JOB</th>\n",
       "      <th>YEAR OF JOB</th>\n",
       "      <th>DEROG</th>\n",
       "      <th>DELINQ</th>\n",
       "      <th>CLAGE</th>\n",
       "      <th>NINQ</th>\n",
       "      <th>CLNO</th>\n",
       "      <th>STATUS</th>\n",
       "    </tr>\n",
       "  </thead>\n",
       "  <tbody>\n",
       "    <tr>\n",
       "      <th>0</th>\n",
       "      <td>1</td>\n",
       "      <td>1100</td>\n",
       "      <td>25860.0</td>\n",
       "      <td>39025.0</td>\n",
       "      <td>HomeImp</td>\n",
       "      <td>Other</td>\n",
       "      <td>10.5</td>\n",
       "      <td>0.0</td>\n",
       "      <td>0.0</td>\n",
       "      <td>94.366667</td>\n",
       "      <td>1.0</td>\n",
       "      <td>9.0</td>\n",
       "      <td>DEFAULT</td>\n",
       "    </tr>\n",
       "    <tr>\n",
       "      <th>1</th>\n",
       "      <td>1</td>\n",
       "      <td>1300</td>\n",
       "      <td>70053.0</td>\n",
       "      <td>68400.0</td>\n",
       "      <td>HomeImp</td>\n",
       "      <td>Other</td>\n",
       "      <td>7.0</td>\n",
       "      <td>0.0</td>\n",
       "      <td>2.0</td>\n",
       "      <td>121.833333</td>\n",
       "      <td>0.0</td>\n",
       "      <td>14.0</td>\n",
       "      <td>DEFAULT</td>\n",
       "    </tr>\n",
       "    <tr>\n",
       "      <th>2</th>\n",
       "      <td>1</td>\n",
       "      <td>1500</td>\n",
       "      <td>13500.0</td>\n",
       "      <td>16700.0</td>\n",
       "      <td>HomeImp</td>\n",
       "      <td>Other</td>\n",
       "      <td>4.0</td>\n",
       "      <td>0.0</td>\n",
       "      <td>0.0</td>\n",
       "      <td>149.466667</td>\n",
       "      <td>1.0</td>\n",
       "      <td>10.0</td>\n",
       "      <td>DEFAULT</td>\n",
       "    </tr>\n",
       "    <tr>\n",
       "      <th>4</th>\n",
       "      <td>0</td>\n",
       "      <td>1700</td>\n",
       "      <td>97800.0</td>\n",
       "      <td>112000.0</td>\n",
       "      <td>HomeImp</td>\n",
       "      <td>Office</td>\n",
       "      <td>3.0</td>\n",
       "      <td>0.0</td>\n",
       "      <td>0.0</td>\n",
       "      <td>93.333333</td>\n",
       "      <td>0.0</td>\n",
       "      <td>14.0</td>\n",
       "      <td>PAID</td>\n",
       "    </tr>\n",
       "    <tr>\n",
       "      <th>5</th>\n",
       "      <td>1</td>\n",
       "      <td>1700</td>\n",
       "      <td>30548.0</td>\n",
       "      <td>40320.0</td>\n",
       "      <td>HomeImp</td>\n",
       "      <td>Other</td>\n",
       "      <td>9.0</td>\n",
       "      <td>0.0</td>\n",
       "      <td>0.0</td>\n",
       "      <td>101.466002</td>\n",
       "      <td>1.0</td>\n",
       "      <td>8.0</td>\n",
       "      <td>DEFAULT</td>\n",
       "    </tr>\n",
       "    <tr>\n",
       "      <th>...</th>\n",
       "      <td>...</td>\n",
       "      <td>...</td>\n",
       "      <td>...</td>\n",
       "      <td>...</td>\n",
       "      <td>...</td>\n",
       "      <td>...</td>\n",
       "      <td>...</td>\n",
       "      <td>...</td>\n",
       "      <td>...</td>\n",
       "      <td>...</td>\n",
       "      <td>...</td>\n",
       "      <td>...</td>\n",
       "      <td>...</td>\n",
       "    </tr>\n",
       "    <tr>\n",
       "      <th>5955</th>\n",
       "      <td>0</td>\n",
       "      <td>88900</td>\n",
       "      <td>57264.0</td>\n",
       "      <td>90185.0</td>\n",
       "      <td>DebtCon</td>\n",
       "      <td>Other</td>\n",
       "      <td>16.0</td>\n",
       "      <td>0.0</td>\n",
       "      <td>0.0</td>\n",
       "      <td>221.808718</td>\n",
       "      <td>0.0</td>\n",
       "      <td>16.0</td>\n",
       "      <td>PAID</td>\n",
       "    </tr>\n",
       "    <tr>\n",
       "      <th>5956</th>\n",
       "      <td>0</td>\n",
       "      <td>89000</td>\n",
       "      <td>54576.0</td>\n",
       "      <td>92937.0</td>\n",
       "      <td>DebtCon</td>\n",
       "      <td>Other</td>\n",
       "      <td>16.0</td>\n",
       "      <td>0.0</td>\n",
       "      <td>0.0</td>\n",
       "      <td>208.692070</td>\n",
       "      <td>0.0</td>\n",
       "      <td>15.0</td>\n",
       "      <td>PAID</td>\n",
       "    </tr>\n",
       "    <tr>\n",
       "      <th>5957</th>\n",
       "      <td>0</td>\n",
       "      <td>89200</td>\n",
       "      <td>54045.0</td>\n",
       "      <td>92924.0</td>\n",
       "      <td>DebtCon</td>\n",
       "      <td>Other</td>\n",
       "      <td>15.0</td>\n",
       "      <td>0.0</td>\n",
       "      <td>0.0</td>\n",
       "      <td>212.279697</td>\n",
       "      <td>0.0</td>\n",
       "      <td>15.0</td>\n",
       "      <td>PAID</td>\n",
       "    </tr>\n",
       "    <tr>\n",
       "      <th>5958</th>\n",
       "      <td>0</td>\n",
       "      <td>89800</td>\n",
       "      <td>50370.0</td>\n",
       "      <td>91861.0</td>\n",
       "      <td>DebtCon</td>\n",
       "      <td>Other</td>\n",
       "      <td>14.0</td>\n",
       "      <td>0.0</td>\n",
       "      <td>0.0</td>\n",
       "      <td>213.892709</td>\n",
       "      <td>0.0</td>\n",
       "      <td>16.0</td>\n",
       "      <td>PAID</td>\n",
       "    </tr>\n",
       "    <tr>\n",
       "      <th>5959</th>\n",
       "      <td>0</td>\n",
       "      <td>89900</td>\n",
       "      <td>48811.0</td>\n",
       "      <td>88934.0</td>\n",
       "      <td>DebtCon</td>\n",
       "      <td>Other</td>\n",
       "      <td>15.0</td>\n",
       "      <td>0.0</td>\n",
       "      <td>0.0</td>\n",
       "      <td>219.601002</td>\n",
       "      <td>0.0</td>\n",
       "      <td>16.0</td>\n",
       "      <td>PAID</td>\n",
       "    </tr>\n",
       "  </tbody>\n",
       "</table>\n",
       "<p>4247 rows × 13 columns</p>\n",
       "</div>"
      ],
      "text/plain": [
       "      BAD   LOAN  MORTDUE     VALUE   REASON     JOB  YEAR OF JOB  DEROG  \\\n",
       "0       1   1100  25860.0   39025.0  HomeImp   Other         10.5    0.0   \n",
       "1       1   1300  70053.0   68400.0  HomeImp   Other          7.0    0.0   \n",
       "2       1   1500  13500.0   16700.0  HomeImp   Other          4.0    0.0   \n",
       "4       0   1700  97800.0  112000.0  HomeImp  Office          3.0    0.0   \n",
       "5       1   1700  30548.0   40320.0  HomeImp   Other          9.0    0.0   \n",
       "...   ...    ...      ...       ...      ...     ...          ...    ...   \n",
       "5955    0  88900  57264.0   90185.0  DebtCon   Other         16.0    0.0   \n",
       "5956    0  89000  54576.0   92937.0  DebtCon   Other         16.0    0.0   \n",
       "5957    0  89200  54045.0   92924.0  DebtCon   Other         15.0    0.0   \n",
       "5958    0  89800  50370.0   91861.0  DebtCon   Other         14.0    0.0   \n",
       "5959    0  89900  48811.0   88934.0  DebtCon   Other         15.0    0.0   \n",
       "\n",
       "      DELINQ       CLAGE  NINQ  CLNO   STATUS  \n",
       "0        0.0   94.366667   1.0   9.0  DEFAULT  \n",
       "1        2.0  121.833333   0.0  14.0  DEFAULT  \n",
       "2        0.0  149.466667   1.0  10.0  DEFAULT  \n",
       "4        0.0   93.333333   0.0  14.0     PAID  \n",
       "5        0.0  101.466002   1.0   8.0  DEFAULT  \n",
       "...      ...         ...   ...   ...      ...  \n",
       "5955     0.0  221.808718   0.0  16.0     PAID  \n",
       "5956     0.0  208.692070   0.0  15.0     PAID  \n",
       "5957     0.0  212.279697   0.0  15.0     PAID  \n",
       "5958     0.0  213.892709   0.0  16.0     PAID  \n",
       "5959     0.0  219.601002   0.0  16.0     PAID  \n",
       "\n",
       "[4247 rows x 13 columns]"
      ]
     },
     "execution_count": 42,
     "metadata": {},
     "output_type": "execute_result"
    }
   ],
   "source": [
    "df.rename(columns= {\"YOJ\": \"YEAR OF JOB\"}, inplace=True)\n",
    "df"
   ]
  },
  {
   "cell_type": "markdown",
   "metadata": {},
   "source": [
    "Veamos algunos estadísticos sobre este DataFrame, utilizando el método **`.describe()`**"
   ]
  },
  {
   "cell_type": "code",
   "execution_count": 43,
   "metadata": {},
   "outputs": [
    {
     "data": {
      "text/html": [
       "<div>\n",
       "<style scoped>\n",
       "    .dataframe tbody tr th:only-of-type {\n",
       "        vertical-align: middle;\n",
       "    }\n",
       "\n",
       "    .dataframe tbody tr th {\n",
       "        vertical-align: top;\n",
       "    }\n",
       "\n",
       "    .dataframe thead th {\n",
       "        text-align: right;\n",
       "    }\n",
       "</style>\n",
       "<table border=\"1\" class=\"dataframe\">\n",
       "  <thead>\n",
       "    <tr style=\"text-align: right;\">\n",
       "      <th></th>\n",
       "      <th>BAD</th>\n",
       "      <th>LOAN</th>\n",
       "      <th>MORTDUE</th>\n",
       "      <th>VALUE</th>\n",
       "      <th>YEAR OF JOB</th>\n",
       "      <th>DEROG</th>\n",
       "      <th>DELINQ</th>\n",
       "      <th>CLAGE</th>\n",
       "      <th>NINQ</th>\n",
       "      <th>CLNO</th>\n",
       "    </tr>\n",
       "  </thead>\n",
       "  <tbody>\n",
       "    <tr>\n",
       "      <th>count</th>\n",
       "      <td>4247.000000</td>\n",
       "      <td>4247.000000</td>\n",
       "      <td>4247.000000</td>\n",
       "      <td>4247.000000</td>\n",
       "      <td>4247.00000</td>\n",
       "      <td>4247.000000</td>\n",
       "      <td>4247.000000</td>\n",
       "      <td>4247.000000</td>\n",
       "      <td>4247.000000</td>\n",
       "      <td>4247.000000</td>\n",
       "    </tr>\n",
       "    <tr>\n",
       "      <th>mean</th>\n",
       "      <td>0.197787</td>\n",
       "      <td>18509.700965</td>\n",
       "      <td>74572.231757</td>\n",
       "      <td>105635.377725</td>\n",
       "      <td>9.02284</td>\n",
       "      <td>0.217801</td>\n",
       "      <td>0.400283</td>\n",
       "      <td>177.292255</td>\n",
       "      <td>1.173534</td>\n",
       "      <td>22.125500</td>\n",
       "    </tr>\n",
       "    <tr>\n",
       "      <th>std</th>\n",
       "      <td>0.398377</td>\n",
       "      <td>10912.687784</td>\n",
       "      <td>45212.202449</td>\n",
       "      <td>55295.021767</td>\n",
       "      <td>7.53081</td>\n",
       "      <td>0.762328</td>\n",
       "      <td>1.057633</td>\n",
       "      <td>83.521478</td>\n",
       "      <td>1.672356</td>\n",
       "      <td>9.608641</td>\n",
       "    </tr>\n",
       "    <tr>\n",
       "      <th>min</th>\n",
       "      <td>0.000000</td>\n",
       "      <td>1100.000000</td>\n",
       "      <td>2619.000000</td>\n",
       "      <td>12500.000000</td>\n",
       "      <td>0.00000</td>\n",
       "      <td>0.000000</td>\n",
       "      <td>0.000000</td>\n",
       "      <td>0.000000</td>\n",
       "      <td>0.000000</td>\n",
       "      <td>0.000000</td>\n",
       "    </tr>\n",
       "    <tr>\n",
       "      <th>25%</th>\n",
       "      <td>0.000000</td>\n",
       "      <td>11200.000000</td>\n",
       "      <td>47567.285000</td>\n",
       "      <td>69415.000000</td>\n",
       "      <td>3.00000</td>\n",
       "      <td>0.000000</td>\n",
       "      <td>0.000000</td>\n",
       "      <td>116.093305</td>\n",
       "      <td>0.000000</td>\n",
       "      <td>16.000000</td>\n",
       "    </tr>\n",
       "    <tr>\n",
       "      <th>50%</th>\n",
       "      <td>0.000000</td>\n",
       "      <td>16300.000000</td>\n",
       "      <td>65298.000000</td>\n",
       "      <td>92582.000000</td>\n",
       "      <td>7.00000</td>\n",
       "      <td>0.000000</td>\n",
       "      <td>0.000000</td>\n",
       "      <td>172.500000</td>\n",
       "      <td>1.000000</td>\n",
       "      <td>21.000000</td>\n",
       "    </tr>\n",
       "    <tr>\n",
       "      <th>75%</th>\n",
       "      <td>0.000000</td>\n",
       "      <td>23400.000000</td>\n",
       "      <td>91002.000000</td>\n",
       "      <td>121769.500000</td>\n",
       "      <td>13.00000</td>\n",
       "      <td>0.000000</td>\n",
       "      <td>0.000000</td>\n",
       "      <td>227.205389</td>\n",
       "      <td>2.000000</td>\n",
       "      <td>27.000000</td>\n",
       "    </tr>\n",
       "    <tr>\n",
       "      <th>max</th>\n",
       "      <td>1.000000</td>\n",
       "      <td>89900.000000</td>\n",
       "      <td>399412.000000</td>\n",
       "      <td>512650.000000</td>\n",
       "      <td>41.00000</td>\n",
       "      <td>10.000000</td>\n",
       "      <td>15.000000</td>\n",
       "      <td>1168.233561</td>\n",
       "      <td>13.000000</td>\n",
       "      <td>65.000000</td>\n",
       "    </tr>\n",
       "  </tbody>\n",
       "</table>\n",
       "</div>"
      ],
      "text/plain": [
       "               BAD          LOAN        MORTDUE          VALUE  YEAR OF JOB  \\\n",
       "count  4247.000000   4247.000000    4247.000000    4247.000000   4247.00000   \n",
       "mean      0.197787  18509.700965   74572.231757  105635.377725      9.02284   \n",
       "std       0.398377  10912.687784   45212.202449   55295.021767      7.53081   \n",
       "min       0.000000   1100.000000    2619.000000   12500.000000      0.00000   \n",
       "25%       0.000000  11200.000000   47567.285000   69415.000000      3.00000   \n",
       "50%       0.000000  16300.000000   65298.000000   92582.000000      7.00000   \n",
       "75%       0.000000  23400.000000   91002.000000  121769.500000     13.00000   \n",
       "max       1.000000  89900.000000  399412.000000  512650.000000     41.00000   \n",
       "\n",
       "             DEROG       DELINQ        CLAGE         NINQ         CLNO  \n",
       "count  4247.000000  4247.000000  4247.000000  4247.000000  4247.000000  \n",
       "mean      0.217801     0.400283   177.292255     1.173534    22.125500  \n",
       "std       0.762328     1.057633    83.521478     1.672356     9.608641  \n",
       "min       0.000000     0.000000     0.000000     0.000000     0.000000  \n",
       "25%       0.000000     0.000000   116.093305     0.000000    16.000000  \n",
       "50%       0.000000     0.000000   172.500000     1.000000    21.000000  \n",
       "75%       0.000000     0.000000   227.205389     2.000000    27.000000  \n",
       "max      10.000000    15.000000  1168.233561    13.000000    65.000000  "
      ]
     },
     "execution_count": 43,
     "metadata": {},
     "output_type": "execute_result"
    }
   ],
   "source": [
    "df.describe()"
   ]
  },
  {
   "cell_type": "markdown",
   "metadata": {},
   "source": [
    "Estadísticas descriptivas de préstamos PAGADOS"
   ]
  },
  {
   "cell_type": "code",
   "execution_count": 44,
   "metadata": {},
   "outputs": [
    {
     "data": {
      "text/html": [
       "<style  type=\"text/css\" >\n",
       "</style><table id=\"T_93c39276_cf41_11ec_81db_cdfe03d4bcf9\" ><thead>    <tr>        <th class=\"blank level0\" ></th>        <th class=\"col_heading level0 col0\" >LOAN</th>        <th class=\"col_heading level0 col1\" >MORTDUE</th>        <th class=\"col_heading level0 col2\" >VALUE</th>        <th class=\"col_heading level0 col3\" >YEAR OF JOB</th>        <th class=\"col_heading level0 col4\" >DEROG</th>        <th class=\"col_heading level0 col5\" >DELINQ</th>        <th class=\"col_heading level0 col6\" >CLAGE</th>        <th class=\"col_heading level0 col7\" >NINQ</th>        <th class=\"col_heading level0 col8\" >CLNO</th>    </tr></thead><tbody>\n",
       "                <tr>\n",
       "                        <th id=\"T_93c39276_cf41_11ec_81db_cdfe03d4bcf9level0_row0\" class=\"row_heading level0 row0\" >count</th>\n",
       "                        <td id=\"T_93c39276_cf41_11ec_81db_cdfe03d4bcf9row0_col0\" class=\"data row0 col0\" >3407.00</td>\n",
       "                        <td id=\"T_93c39276_cf41_11ec_81db_cdfe03d4bcf9row0_col1\" class=\"data row0 col1\" >3407.00</td>\n",
       "                        <td id=\"T_93c39276_cf41_11ec_81db_cdfe03d4bcf9row0_col2\" class=\"data row0 col2\" >3407.00</td>\n",
       "                        <td id=\"T_93c39276_cf41_11ec_81db_cdfe03d4bcf9row0_col3\" class=\"data row0 col3\" >3407.00</td>\n",
       "                        <td id=\"T_93c39276_cf41_11ec_81db_cdfe03d4bcf9row0_col4\" class=\"data row0 col4\" >3407.00</td>\n",
       "                        <td id=\"T_93c39276_cf41_11ec_81db_cdfe03d4bcf9row0_col5\" class=\"data row0 col5\" >3407.00</td>\n",
       "                        <td id=\"T_93c39276_cf41_11ec_81db_cdfe03d4bcf9row0_col6\" class=\"data row0 col6\" >3407.00</td>\n",
       "                        <td id=\"T_93c39276_cf41_11ec_81db_cdfe03d4bcf9row0_col7\" class=\"data row0 col7\" >3407.00</td>\n",
       "                        <td id=\"T_93c39276_cf41_11ec_81db_cdfe03d4bcf9row0_col8\" class=\"data row0 col8\" >3407.00</td>\n",
       "            </tr>\n",
       "            <tr>\n",
       "                        <th id=\"T_93c39276_cf41_11ec_81db_cdfe03d4bcf9level0_row1\" class=\"row_heading level0 row1\" >mean</th>\n",
       "                        <td id=\"T_93c39276_cf41_11ec_81db_cdfe03d4bcf9row1_col0\" class=\"data row1 col0\" >19032.46</td>\n",
       "                        <td id=\"T_93c39276_cf41_11ec_81db_cdfe03d4bcf9row1_col1\" class=\"data row1 col1\" >75954.35</td>\n",
       "                        <td id=\"T_93c39276_cf41_11ec_81db_cdfe03d4bcf9row1_col2\" class=\"data row1 col2\" >107528.88</td>\n",
       "                        <td id=\"T_93c39276_cf41_11ec_81db_cdfe03d4bcf9row1_col3\" class=\"data row1 col3\" >9.31</td>\n",
       "                        <td id=\"T_93c39276_cf41_11ec_81db_cdfe03d4bcf9row1_col4\" class=\"data row1 col4\" >0.10</td>\n",
       "                        <td id=\"T_93c39276_cf41_11ec_81db_cdfe03d4bcf9row1_col5\" class=\"data row1 col5\" >0.22</td>\n",
       "                        <td id=\"T_93c39276_cf41_11ec_81db_cdfe03d4bcf9row1_col6\" class=\"data row1 col6\" >184.09</td>\n",
       "                        <td id=\"T_93c39276_cf41_11ec_81db_cdfe03d4bcf9row1_col7\" class=\"data row1 col7\" >1.01</td>\n",
       "                        <td id=\"T_93c39276_cf41_11ec_81db_cdfe03d4bcf9row1_col8\" class=\"data row1 col8\" >22.13</td>\n",
       "            </tr>\n",
       "            <tr>\n",
       "                        <th id=\"T_93c39276_cf41_11ec_81db_cdfe03d4bcf9level0_row2\" class=\"row_heading level0 row2\" >std</th>\n",
       "                        <td id=\"T_93c39276_cf41_11ec_81db_cdfe03d4bcf9row2_col0\" class=\"data row2 col0\" >10863.46</td>\n",
       "                        <td id=\"T_93c39276_cf41_11ec_81db_cdfe03d4bcf9row2_col1\" class=\"data row2 col1\" >44495.89</td>\n",
       "                        <td id=\"T_93c39276_cf41_11ec_81db_cdfe03d4bcf9row2_col2\" class=\"data row2 col2\" >53831.18</td>\n",
       "                        <td id=\"T_93c39276_cf41_11ec_81db_cdfe03d4bcf9row2_col3\" class=\"data row2 col3\" >7.66</td>\n",
       "                        <td id=\"T_93c39276_cf41_11ec_81db_cdfe03d4bcf9row2_col4\" class=\"data row2 col4\" >0.39</td>\n",
       "                        <td id=\"T_93c39276_cf41_11ec_81db_cdfe03d4bcf9row2_col5\" class=\"data row2 col5\" >0.61</td>\n",
       "                        <td id=\"T_93c39276_cf41_11ec_81db_cdfe03d4bcf9row2_col6\" class=\"data row2 col6\" >80.81</td>\n",
       "                        <td id=\"T_93c39276_cf41_11ec_81db_cdfe03d4bcf9row2_col7\" class=\"data row2 col7\" >1.46</td>\n",
       "                        <td id=\"T_93c39276_cf41_11ec_81db_cdfe03d4bcf9row2_col8\" class=\"data row2 col8\" >9.13</td>\n",
       "            </tr>\n",
       "            <tr>\n",
       "                        <th id=\"T_93c39276_cf41_11ec_81db_cdfe03d4bcf9level0_row3\" class=\"row_heading level0 row3\" >min</th>\n",
       "                        <td id=\"T_93c39276_cf41_11ec_81db_cdfe03d4bcf9row3_col0\" class=\"data row3 col0\" >1700.00</td>\n",
       "                        <td id=\"T_93c39276_cf41_11ec_81db_cdfe03d4bcf9row3_col1\" class=\"data row3 col1\" >2619.00</td>\n",
       "                        <td id=\"T_93c39276_cf41_11ec_81db_cdfe03d4bcf9row3_col2\" class=\"data row3 col2\" >26000.00</td>\n",
       "                        <td id=\"T_93c39276_cf41_11ec_81db_cdfe03d4bcf9row3_col3\" class=\"data row3 col3\" >0.00</td>\n",
       "                        <td id=\"T_93c39276_cf41_11ec_81db_cdfe03d4bcf9row3_col4\" class=\"data row3 col4\" >0.00</td>\n",
       "                        <td id=\"T_93c39276_cf41_11ec_81db_cdfe03d4bcf9row3_col5\" class=\"data row3 col5\" >0.00</td>\n",
       "                        <td id=\"T_93c39276_cf41_11ec_81db_cdfe03d4bcf9row3_col6\" class=\"data row3 col6\" >0.49</td>\n",
       "                        <td id=\"T_93c39276_cf41_11ec_81db_cdfe03d4bcf9row3_col7\" class=\"data row3 col7\" >0.00</td>\n",
       "                        <td id=\"T_93c39276_cf41_11ec_81db_cdfe03d4bcf9row3_col8\" class=\"data row3 col8\" >3.00</td>\n",
       "            </tr>\n",
       "            <tr>\n",
       "                        <th id=\"T_93c39276_cf41_11ec_81db_cdfe03d4bcf9level0_row4\" class=\"row_heading level0 row4\" >25%</th>\n",
       "                        <td id=\"T_93c39276_cf41_11ec_81db_cdfe03d4bcf9row4_col0\" class=\"data row4 col0\" >11900.00</td>\n",
       "                        <td id=\"T_93c39276_cf41_11ec_81db_cdfe03d4bcf9row4_col1\" class=\"data row4 col1\" >49000.00</td>\n",
       "                        <td id=\"T_93c39276_cf41_11ec_81db_cdfe03d4bcf9row4_col2\" class=\"data row4 col2\" >71355.00</td>\n",
       "                        <td id=\"T_93c39276_cf41_11ec_81db_cdfe03d4bcf9row4_col3\" class=\"data row4 col3\" >3.00</td>\n",
       "                        <td id=\"T_93c39276_cf41_11ec_81db_cdfe03d4bcf9row4_col4\" class=\"data row4 col4\" >0.00</td>\n",
       "                        <td id=\"T_93c39276_cf41_11ec_81db_cdfe03d4bcf9row4_col5\" class=\"data row4 col5\" >0.00</td>\n",
       "                        <td id=\"T_93c39276_cf41_11ec_81db_cdfe03d4bcf9row4_col6\" class=\"data row4 col6\" >121.76</td>\n",
       "                        <td id=\"T_93c39276_cf41_11ec_81db_cdfe03d4bcf9row4_col7\" class=\"data row4 col7\" >0.00</td>\n",
       "                        <td id=\"T_93c39276_cf41_11ec_81db_cdfe03d4bcf9row4_col8\" class=\"data row4 col8\" >16.00</td>\n",
       "            </tr>\n",
       "            <tr>\n",
       "                        <th id=\"T_93c39276_cf41_11ec_81db_cdfe03d4bcf9level0_row5\" class=\"row_heading level0 row5\" >50%</th>\n",
       "                        <td id=\"T_93c39276_cf41_11ec_81db_cdfe03d4bcf9row5_col0\" class=\"data row5 col0\" >16900.00</td>\n",
       "                        <td id=\"T_93c39276_cf41_11ec_81db_cdfe03d4bcf9row5_col1\" class=\"data row5 col1\" >67285.00</td>\n",
       "                        <td id=\"T_93c39276_cf41_11ec_81db_cdfe03d4bcf9row5_col2\" class=\"data row5 col2\" >94613.00</td>\n",
       "                        <td id=\"T_93c39276_cf41_11ec_81db_cdfe03d4bcf9row5_col3\" class=\"data row5 col3\" >8.00</td>\n",
       "                        <td id=\"T_93c39276_cf41_11ec_81db_cdfe03d4bcf9row5_col4\" class=\"data row5 col4\" >0.00</td>\n",
       "                        <td id=\"T_93c39276_cf41_11ec_81db_cdfe03d4bcf9row5_col5\" class=\"data row5 col5\" >0.00</td>\n",
       "                        <td id=\"T_93c39276_cf41_11ec_81db_cdfe03d4bcf9row5_col6\" class=\"data row5 col6\" >180.73</td>\n",
       "                        <td id=\"T_93c39276_cf41_11ec_81db_cdfe03d4bcf9row5_col7\" class=\"data row5 col7\" >1.00</td>\n",
       "                        <td id=\"T_93c39276_cf41_11ec_81db_cdfe03d4bcf9row5_col8\" class=\"data row5 col8\" >21.00</td>\n",
       "            </tr>\n",
       "            <tr>\n",
       "                        <th id=\"T_93c39276_cf41_11ec_81db_cdfe03d4bcf9level0_row6\" class=\"row_heading level0 row6\" >75%</th>\n",
       "                        <td id=\"T_93c39276_cf41_11ec_81db_cdfe03d4bcf9row6_col0\" class=\"data row6 col0\" >23800.00</td>\n",
       "                        <td id=\"T_93c39276_cf41_11ec_81db_cdfe03d4bcf9row6_col1\" class=\"data row6 col1\" >92693.50</td>\n",
       "                        <td id=\"T_93c39276_cf41_11ec_81db_cdfe03d4bcf9row6_col2\" class=\"data row6 col2\" >122328.50</td>\n",
       "                        <td id=\"T_93c39276_cf41_11ec_81db_cdfe03d4bcf9row6_col3\" class=\"data row6 col3\" >14.00</td>\n",
       "                        <td id=\"T_93c39276_cf41_11ec_81db_cdfe03d4bcf9row6_col4\" class=\"data row6 col4\" >0.00</td>\n",
       "                        <td id=\"T_93c39276_cf41_11ec_81db_cdfe03d4bcf9row6_col5\" class=\"data row6 col5\" >0.00</td>\n",
       "                        <td id=\"T_93c39276_cf41_11ec_81db_cdfe03d4bcf9row6_col6\" class=\"data row6 col6\" >233.94</td>\n",
       "                        <td id=\"T_93c39276_cf41_11ec_81db_cdfe03d4bcf9row6_col7\" class=\"data row6 col7\" >2.00</td>\n",
       "                        <td id=\"T_93c39276_cf41_11ec_81db_cdfe03d4bcf9row6_col8\" class=\"data row6 col8\" >27.00</td>\n",
       "            </tr>\n",
       "            <tr>\n",
       "                        <th id=\"T_93c39276_cf41_11ec_81db_cdfe03d4bcf9level0_row7\" class=\"row_heading level0 row7\" >max</th>\n",
       "                        <td id=\"T_93c39276_cf41_11ec_81db_cdfe03d4bcf9row7_col0\" class=\"data row7 col0\" >89900.00</td>\n",
       "                        <td id=\"T_93c39276_cf41_11ec_81db_cdfe03d4bcf9row7_col1\" class=\"data row7 col1\" >371003.00</td>\n",
       "                        <td id=\"T_93c39276_cf41_11ec_81db_cdfe03d4bcf9row7_col2\" class=\"data row7 col2\" >471827.00</td>\n",
       "                        <td id=\"T_93c39276_cf41_11ec_81db_cdfe03d4bcf9row7_col3\" class=\"data row7 col3\" >36.00</td>\n",
       "                        <td id=\"T_93c39276_cf41_11ec_81db_cdfe03d4bcf9row7_col4\" class=\"data row7 col4\" >3.00</td>\n",
       "                        <td id=\"T_93c39276_cf41_11ec_81db_cdfe03d4bcf9row7_col5\" class=\"data row7 col5\" >4.00</td>\n",
       "                        <td id=\"T_93c39276_cf41_11ec_81db_cdfe03d4bcf9row7_col6\" class=\"data row7 col6\" >649.75</td>\n",
       "                        <td id=\"T_93c39276_cf41_11ec_81db_cdfe03d4bcf9row7_col7\" class=\"data row7 col7\" >11.00</td>\n",
       "                        <td id=\"T_93c39276_cf41_11ec_81db_cdfe03d4bcf9row7_col8\" class=\"data row7 col8\" >56.00</td>\n",
       "            </tr>\n",
       "    </tbody></table>"
      ],
      "text/plain": [
       "<pandas.io.formats.style.Styler at 0x7ff0863069d0>"
      ]
     },
     "execution_count": 44,
     "metadata": {},
     "output_type": "execute_result"
    }
   ],
   "source": [
    "df[df['BAD']==0].drop('BAD', axis=1).describe().style.format(\"{:.2f}\")"
   ]
  },
  {
   "cell_type": "markdown",
   "metadata": {},
   "source": [
    "Estadísticas descriptivas de préstamos INCUMPLIDOS"
   ]
  },
  {
   "cell_type": "code",
   "execution_count": 45,
   "metadata": {},
   "outputs": [
    {
     "data": {
      "text/html": [
       "<style  type=\"text/css\" >\n",
       "</style><table id=\"T_93cda00e_cf41_11ec_81db_cdfe03d4bcf9\" ><thead>    <tr>        <th class=\"blank level0\" ></th>        <th class=\"col_heading level0 col0\" >LOAN</th>        <th class=\"col_heading level0 col1\" >MORTDUE</th>        <th class=\"col_heading level0 col2\" >VALUE</th>        <th class=\"col_heading level0 col3\" >YEAR OF JOB</th>        <th class=\"col_heading level0 col4\" >DEROG</th>        <th class=\"col_heading level0 col5\" >DELINQ</th>        <th class=\"col_heading level0 col6\" >CLAGE</th>        <th class=\"col_heading level0 col7\" >NINQ</th>        <th class=\"col_heading level0 col8\" >CLNO</th>    </tr></thead><tbody>\n",
       "                <tr>\n",
       "                        <th id=\"T_93cda00e_cf41_11ec_81db_cdfe03d4bcf9level0_row0\" class=\"row_heading level0 row0\" >count</th>\n",
       "                        <td id=\"T_93cda00e_cf41_11ec_81db_cdfe03d4bcf9row0_col0\" class=\"data row0 col0\" >840.00</td>\n",
       "                        <td id=\"T_93cda00e_cf41_11ec_81db_cdfe03d4bcf9row0_col1\" class=\"data row0 col1\" >840.00</td>\n",
       "                        <td id=\"T_93cda00e_cf41_11ec_81db_cdfe03d4bcf9row0_col2\" class=\"data row0 col2\" >840.00</td>\n",
       "                        <td id=\"T_93cda00e_cf41_11ec_81db_cdfe03d4bcf9row0_col3\" class=\"data row0 col3\" >840.00</td>\n",
       "                        <td id=\"T_93cda00e_cf41_11ec_81db_cdfe03d4bcf9row0_col4\" class=\"data row0 col4\" >840.00</td>\n",
       "                        <td id=\"T_93cda00e_cf41_11ec_81db_cdfe03d4bcf9row0_col5\" class=\"data row0 col5\" >840.00</td>\n",
       "                        <td id=\"T_93cda00e_cf41_11ec_81db_cdfe03d4bcf9row0_col6\" class=\"data row0 col6\" >840.00</td>\n",
       "                        <td id=\"T_93cda00e_cf41_11ec_81db_cdfe03d4bcf9row0_col7\" class=\"data row0 col7\" >840.00</td>\n",
       "                        <td id=\"T_93cda00e_cf41_11ec_81db_cdfe03d4bcf9row0_col8\" class=\"data row0 col8\" >840.00</td>\n",
       "            </tr>\n",
       "            <tr>\n",
       "                        <th id=\"T_93cda00e_cf41_11ec_81db_cdfe03d4bcf9level0_row1\" class=\"row_heading level0 row1\" >mean</th>\n",
       "                        <td id=\"T_93cda00e_cf41_11ec_81db_cdfe03d4bcf9row1_col0\" class=\"data row1 col0\" >16389.40</td>\n",
       "                        <td id=\"T_93cda00e_cf41_11ec_81db_cdfe03d4bcf9row1_col1\" class=\"data row1 col1\" >68966.45</td>\n",
       "                        <td id=\"T_93cda00e_cf41_11ec_81db_cdfe03d4bcf9row1_col2\" class=\"data row1 col2\" >97955.43</td>\n",
       "                        <td id=\"T_93cda00e_cf41_11ec_81db_cdfe03d4bcf9row1_col3\" class=\"data row1 col3\" >7.85</td>\n",
       "                        <td id=\"T_93cda00e_cf41_11ec_81db_cdfe03d4bcf9row1_col4\" class=\"data row1 col4\" >0.68</td>\n",
       "                        <td id=\"T_93cda00e_cf41_11ec_81db_cdfe03d4bcf9row1_col5\" class=\"data row1 col5\" >1.15</td>\n",
       "                        <td id=\"T_93cda00e_cf41_11ec_81db_cdfe03d4bcf9row1_col6\" class=\"data row1 col6\" >149.73</td>\n",
       "                        <td id=\"T_93cda00e_cf41_11ec_81db_cdfe03d4bcf9row1_col7\" class=\"data row1 col7\" >1.84</td>\n",
       "                        <td id=\"T_93cda00e_cf41_11ec_81db_cdfe03d4bcf9row1_col8\" class=\"data row1 col8\" >22.12</td>\n",
       "            </tr>\n",
       "            <tr>\n",
       "                        <th id=\"T_93cda00e_cf41_11ec_81db_cdfe03d4bcf9level0_row2\" class=\"row_heading level0 row2\" >std</th>\n",
       "                        <td id=\"T_93cda00e_cf41_11ec_81db_cdfe03d4bcf9row2_col0\" class=\"data row2 col0\" >10861.40</td>\n",
       "                        <td id=\"T_93cda00e_cf41_11ec_81db_cdfe03d4bcf9row2_col1\" class=\"data row2 col1\" >47625.88</td>\n",
       "                        <td id=\"T_93cda00e_cf41_11ec_81db_cdfe03d4bcf9row2_col2\" class=\"data row2 col2\" >60299.80</td>\n",
       "                        <td id=\"T_93cda00e_cf41_11ec_81db_cdfe03d4bcf9row2_col3\" class=\"data row2 col3\" >6.85</td>\n",
       "                        <td id=\"T_93cda00e_cf41_11ec_81db_cdfe03d4bcf9row2_col4\" class=\"data row2 col4\" >1.43</td>\n",
       "                        <td id=\"T_93cda00e_cf41_11ec_81db_cdfe03d4bcf9row2_col5\" class=\"data row2 col5\" >1.86</td>\n",
       "                        <td id=\"T_93cda00e_cf41_11ec_81db_cdfe03d4bcf9row2_col6\" class=\"data row2 col6\" >88.59</td>\n",
       "                        <td id=\"T_93cda00e_cf41_11ec_81db_cdfe03d4bcf9row2_col7\" class=\"data row2 col7\" >2.22</td>\n",
       "                        <td id=\"T_93cda00e_cf41_11ec_81db_cdfe03d4bcf9row2_col8\" class=\"data row2 col8\" >11.35</td>\n",
       "            </tr>\n",
       "            <tr>\n",
       "                        <th id=\"T_93cda00e_cf41_11ec_81db_cdfe03d4bcf9level0_row3\" class=\"row_heading level0 row3\" >min</th>\n",
       "                        <td id=\"T_93cda00e_cf41_11ec_81db_cdfe03d4bcf9row3_col0\" class=\"data row3 col0\" >1100.00</td>\n",
       "                        <td id=\"T_93cda00e_cf41_11ec_81db_cdfe03d4bcf9row3_col1\" class=\"data row3 col1\" >2800.00</td>\n",
       "                        <td id=\"T_93cda00e_cf41_11ec_81db_cdfe03d4bcf9row3_col2\" class=\"data row3 col2\" >12500.00</td>\n",
       "                        <td id=\"T_93cda00e_cf41_11ec_81db_cdfe03d4bcf9row3_col3\" class=\"data row3 col3\" >0.00</td>\n",
       "                        <td id=\"T_93cda00e_cf41_11ec_81db_cdfe03d4bcf9row3_col4\" class=\"data row3 col4\" >0.00</td>\n",
       "                        <td id=\"T_93cda00e_cf41_11ec_81db_cdfe03d4bcf9row3_col5\" class=\"data row3 col5\" >0.00</td>\n",
       "                        <td id=\"T_93cda00e_cf41_11ec_81db_cdfe03d4bcf9row3_col6\" class=\"data row3 col6\" >0.00</td>\n",
       "                        <td id=\"T_93cda00e_cf41_11ec_81db_cdfe03d4bcf9row3_col7\" class=\"data row3 col7\" >0.00</td>\n",
       "                        <td id=\"T_93cda00e_cf41_11ec_81db_cdfe03d4bcf9row3_col8\" class=\"data row3 col8\" >0.00</td>\n",
       "            </tr>\n",
       "            <tr>\n",
       "                        <th id=\"T_93cda00e_cf41_11ec_81db_cdfe03d4bcf9level0_row4\" class=\"row_heading level0 row4\" >25%</th>\n",
       "                        <td id=\"T_93cda00e_cf41_11ec_81db_cdfe03d4bcf9row4_col0\" class=\"data row4 col0\" >9000.00</td>\n",
       "                        <td id=\"T_93cda00e_cf41_11ec_81db_cdfe03d4bcf9row4_col1\" class=\"data row4 col1\" >39552.00</td>\n",
       "                        <td id=\"T_93cda00e_cf41_11ec_81db_cdfe03d4bcf9row4_col2\" class=\"data row4 col2\" >60498.25</td>\n",
       "                        <td id=\"T_93cda00e_cf41_11ec_81db_cdfe03d4bcf9row4_col3\" class=\"data row4 col3\" >2.50</td>\n",
       "                        <td id=\"T_93cda00e_cf41_11ec_81db_cdfe03d4bcf9row4_col4\" class=\"data row4 col4\" >0.00</td>\n",
       "                        <td id=\"T_93cda00e_cf41_11ec_81db_cdfe03d4bcf9row4_col5\" class=\"data row4 col5\" >0.00</td>\n",
       "                        <td id=\"T_93cda00e_cf41_11ec_81db_cdfe03d4bcf9row4_col6\" class=\"data row4 col6\" >94.54</td>\n",
       "                        <td id=\"T_93cda00e_cf41_11ec_81db_cdfe03d4bcf9row4_col7\" class=\"data row4 col7\" >0.00</td>\n",
       "                        <td id=\"T_93cda00e_cf41_11ec_81db_cdfe03d4bcf9row4_col8\" class=\"data row4 col8\" >14.00</td>\n",
       "            </tr>\n",
       "            <tr>\n",
       "                        <th id=\"T_93cda00e_cf41_11ec_81db_cdfe03d4bcf9level0_row5\" class=\"row_heading level0 row5\" >50%</th>\n",
       "                        <td id=\"T_93cda00e_cf41_11ec_81db_cdfe03d4bcf9row5_col0\" class=\"data row5 col0\" >14600.00</td>\n",
       "                        <td id=\"T_93cda00e_cf41_11ec_81db_cdfe03d4bcf9row5_col1\" class=\"data row5 col1\" >59374.50</td>\n",
       "                        <td id=\"T_93cda00e_cf41_11ec_81db_cdfe03d4bcf9row5_col2\" class=\"data row5 col2\" >83000.00</td>\n",
       "                        <td id=\"T_93cda00e_cf41_11ec_81db_cdfe03d4bcf9row5_col3\" class=\"data row5 col3\" >6.00</td>\n",
       "                        <td id=\"T_93cda00e_cf41_11ec_81db_cdfe03d4bcf9row5_col4\" class=\"data row5 col4\" >0.00</td>\n",
       "                        <td id=\"T_93cda00e_cf41_11ec_81db_cdfe03d4bcf9row5_col5\" class=\"data row5 col5\" >0.00</td>\n",
       "                        <td id=\"T_93cda00e_cf41_11ec_81db_cdfe03d4bcf9row5_col6\" class=\"data row5 col6\" >132.01</td>\n",
       "                        <td id=\"T_93cda00e_cf41_11ec_81db_cdfe03d4bcf9row5_col7\" class=\"data row5 col7\" >1.00</td>\n",
       "                        <td id=\"T_93cda00e_cf41_11ec_81db_cdfe03d4bcf9row5_col8\" class=\"data row5 col8\" >21.00</td>\n",
       "            </tr>\n",
       "            <tr>\n",
       "                        <th id=\"T_93cda00e_cf41_11ec_81db_cdfe03d4bcf9level0_row6\" class=\"row_heading level0 row6\" >75%</th>\n",
       "                        <td id=\"T_93cda00e_cf41_11ec_81db_cdfe03d4bcf9row6_col0\" class=\"data row6 col0\" >20650.00</td>\n",
       "                        <td id=\"T_93cda00e_cf41_11ec_81db_cdfe03d4bcf9row6_col1\" class=\"data row6 col1\" >84985.50</td>\n",
       "                        <td id=\"T_93cda00e_cf41_11ec_81db_cdfe03d4bcf9row6_col2\" class=\"data row6 col2\" >118031.25</td>\n",
       "                        <td id=\"T_93cda00e_cf41_11ec_81db_cdfe03d4bcf9row6_col3\" class=\"data row6 col3\" >11.25</td>\n",
       "                        <td id=\"T_93cda00e_cf41_11ec_81db_cdfe03d4bcf9row6_col4\" class=\"data row6 col4\" >1.00</td>\n",
       "                        <td id=\"T_93cda00e_cf41_11ec_81db_cdfe03d4bcf9row6_col5\" class=\"data row6 col5\" >2.00</td>\n",
       "                        <td id=\"T_93cda00e_cf41_11ec_81db_cdfe03d4bcf9row6_col6\" class=\"data row6 col6\" >193.91</td>\n",
       "                        <td id=\"T_93cda00e_cf41_11ec_81db_cdfe03d4bcf9row6_col7\" class=\"data row6 col7\" >3.00</td>\n",
       "                        <td id=\"T_93cda00e_cf41_11ec_81db_cdfe03d4bcf9row6_col8\" class=\"data row6 col8\" >28.00</td>\n",
       "            </tr>\n",
       "            <tr>\n",
       "                        <th id=\"T_93cda00e_cf41_11ec_81db_cdfe03d4bcf9level0_row7\" class=\"row_heading level0 row7\" >max</th>\n",
       "                        <td id=\"T_93cda00e_cf41_11ec_81db_cdfe03d4bcf9row7_col0\" class=\"data row7 col0\" >77400.00</td>\n",
       "                        <td id=\"T_93cda00e_cf41_11ec_81db_cdfe03d4bcf9row7_col1\" class=\"data row7 col1\" >399412.00</td>\n",
       "                        <td id=\"T_93cda00e_cf41_11ec_81db_cdfe03d4bcf9row7_col2\" class=\"data row7 col2\" >512650.00</td>\n",
       "                        <td id=\"T_93cda00e_cf41_11ec_81db_cdfe03d4bcf9row7_col3\" class=\"data row7 col3\" >41.00</td>\n",
       "                        <td id=\"T_93cda00e_cf41_11ec_81db_cdfe03d4bcf9row7_col4\" class=\"data row7 col4\" >10.00</td>\n",
       "                        <td id=\"T_93cda00e_cf41_11ec_81db_cdfe03d4bcf9row7_col5\" class=\"data row7 col5\" >15.00</td>\n",
       "                        <td id=\"T_93cda00e_cf41_11ec_81db_cdfe03d4bcf9row7_col6\" class=\"data row7 col6\" >1168.23</td>\n",
       "                        <td id=\"T_93cda00e_cf41_11ec_81db_cdfe03d4bcf9row7_col7\" class=\"data row7 col7\" >13.00</td>\n",
       "                        <td id=\"T_93cda00e_cf41_11ec_81db_cdfe03d4bcf9row7_col8\" class=\"data row7 col8\" >65.00</td>\n",
       "            </tr>\n",
       "    </tbody></table>"
      ],
      "text/plain": [
       "<pandas.io.formats.style.Styler at 0x7ff08630d890>"
      ]
     },
     "execution_count": 45,
     "metadata": {},
     "output_type": "execute_result"
    }
   ],
   "source": [
    "df[df['BAD']==1].drop('BAD', axis=1).describe().style.format(\"{:.2f}\")"
   ]
  },
  {
   "cell_type": "code",
   "execution_count": null,
   "metadata": {},
   "outputs": [],
   "source": []
  }
 ],
 "metadata": {
  "kernelspec": {
   "display_name": "Python 3",
   "language": "python",
   "name": "python3"
  },
  "language_info": {
   "codemirror_mode": {
    "name": "ipython",
    "version": 3
   },
   "file_extension": ".py",
   "mimetype": "text/x-python",
   "name": "python",
   "nbconvert_exporter": "python",
   "pygments_lexer": "ipython3",
   "version": "3.7.6"
  }
 },
 "nbformat": 4,
 "nbformat_minor": 4
}
