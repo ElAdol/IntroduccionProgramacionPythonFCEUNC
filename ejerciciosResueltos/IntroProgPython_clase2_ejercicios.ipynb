{
 "cells": [
  {
   "cell_type": "markdown",
   "metadata": {},
   "source": [
    "### NOTA: Para un mejor seguimiento de esta clase, es recomendable abrirla desde Colab, siguiendo el botón de abajo\n",
    "\n",
    "<a href=\"https://colab.research.google.com/github/martinezarraigadamaria/IntroduccionProgramacionPythonFCEUNC/blob/master/ejerciciosResueltos/IntroProgPython_clase2_ejercicios.ipynb\" target=\"_parent\"><img src=\"https://colab.research.google.com/assets/colab-badge.svg\" alt=\"Open In Colab\"/></a>"
   ]
  },
  {
   "cell_type": "markdown",
   "metadata": {},
   "source": [
    "#### **Ejercicio 1:** Floats\n",
    "\n",
    "1. Crear un programa que convierta grados **Celsius** a grados **Farenheit** (https://es.wikipedia.org/wiki/Grado_Fahrenheit). El usuario ingresa un valor de grados Celsius y el programa muestra el valor de grados Farenheit que representan como resultado.\n",
    "\n",
    "2. Crear un programa para transformar minutos en horas. El usuario ingresa una cantidad de minutos y el programa, como resultado, muestra las horas que representan esa cantidad de minutos."
   ]
  },
  {
   "cell_type": "code",
   "execution_count": null,
   "metadata": {},
   "outputs": [],
   "source": [
    "# Código Ejercicio 1 Apartado 1"
   ]
  },
  {
   "cell_type": "code",
   "execution_count": null,
   "metadata": {},
   "outputs": [],
   "source": [
    "# Código Ejercicio 1 Apartado 2"
   ]
  },
  {
   "cell_type": "markdown",
   "metadata": {},
   "source": [
    "#### **Ejercicio 2:** Strings\n",
    "\n",
    "1. Pedir a un usuario que ingrese su fruta favorita y *normalizar* el input de forma que permita verificar si la fruta favorita es la \"naranja\". Verificarlo e imprimir el resultado.\n",
    "\n",
    "2. Hacer un programa que permita ingresar un nombre y un apellido usando dos veces la función input( ). Luego debe crear la variable *nombre_y_apellido* que contenga ambos datos separados por un espacio.\n",
    "> Un fabricante de tarjetas admite la impresión de hasta 26 caracteres para el nombre del dueño de la tarjeta, el programa debe imprimir \"Nombre admitido = True/False\" si *nombre_y_apellido* cumple o no con esta restricción (el espacio cuenta como uno de los 26 caracteres disponibles)."
   ]
  },
  {
   "cell_type": "code",
   "execution_count": 11,
   "metadata": {},
   "outputs": [],
   "source": [
    "# Código Ejercicio 2 Apartado 1"
   ]
  },
  {
   "cell_type": "code",
   "execution_count": null,
   "metadata": {},
   "outputs": [],
   "source": [
    "# Código Ejercicio 2 Apartado 2"
   ]
  },
  {
   "cell_type": "markdown",
   "metadata": {},
   "source": [
    "### **Ejercicio 3:** if\n",
    "1. Realizar un programa que revise si una nota está aprobada (es decir si es mayor o igual a 4) utilizando un `if/else`. La nota será ingresada por el usuario usando input().\n",
    "2. Realizar un programa que convierta una nota porcentual del 0 al 100 a una letra entre A y F de acuerdo a la siguiente conversión:\n",
    "\n",
    " - A: 90–100\n",
    "\n",
    " - B: 80–89\n",
    "\n",
    " - C: 70–79\n",
    "\n",
    " - D: 60–69\n",
    "\n",
    " - F: 0–59"
   ]
  },
  {
   "cell_type": "code",
   "execution_count": null,
   "metadata": {},
   "outputs": [],
   "source": [
    "# Código Ejercicio 3 Apartado 1"
   ]
  },
  {
   "cell_type": "code",
   "execution_count": null,
   "metadata": {},
   "outputs": [],
   "source": [
    "# Código Ejercicio 3 Apartado 2"
   ]
  },
  {
   "cell_type": "markdown",
   "metadata": {},
   "source": [
    "### **Ejercicio 4:** while\n",
    "Implementar un programa que muestre la siguiente secuencia:\n",
    "\n",
    "1, 2, 3, 4, 5, 4, 3, 2, 1, 0\n",
    "\n",
    "**Para un desafío mayor:** Utilizar 1 solo *while*, 1 solo *if* y 1 solo *else*. Es recomendable que la variable usada para contar los pasos se mantenga contando siempre de la misma forma. "
   ]
  },
  {
   "cell_type": "code",
   "execution_count": null,
   "metadata": {},
   "outputs": [],
   "source": [
    "# Código Ejercicio 4"
   ]
  },
  {
   "cell_type": "markdown",
   "metadata": {},
   "source": [
    "### **Ejercicio 5:** for\n",
    "\n",
    "1. Realizar un programa para controlar el sistema de impresión de etiquetas con códigos de barras en un supermercado. Primero se debe ingresar la cantidad de productos diferentes que necesitan etiquetas. Luego para cada producto se ingresa el código correspondiente y la cantidad requerida. Imprimir en pantalla los códigos solicitados, la cantidad requerida de veces.\n",
    "\n",
    "**Ejemplo:**\n",
    "\n",
    "*Input:*\n",
    "\n",
    "  ```\n",
    "  3\n",
    "  000000123\n",
    "  1\n",
    "  123000789\n",
    "  3\n",
    "  000031416\n",
    "  2\n",
    "  ```\n",
    "\n",
    "*Output:*\n",
    "\n",
    "  ```\n",
    "  000000123\n",
    "  123000789\n",
    "  123000789\n",
    "  123000789\n",
    "  000031416\n",
    "  000031416\n",
    "  ```"
   ]
  },
  {
   "cell_type": "code",
   "execution_count": null,
   "metadata": {},
   "outputs": [],
   "source": [
    "# Código Ejercicio 5"
   ]
  }
 ],
 "metadata": {
  "kernelspec": {
   "display_name": "Python 3",
   "language": "python",
   "name": "python3"
  },
  "language_info": {
   "codemirror_mode": {
    "name": "ipython",
    "version": 3
   },
   "file_extension": ".py",
   "mimetype": "text/x-python",
   "name": "python",
   "nbconvert_exporter": "python",
   "pygments_lexer": "ipython3",
   "version": "3.7.6"
  }
 },
 "nbformat": 4,
 "nbformat_minor": 4
}
