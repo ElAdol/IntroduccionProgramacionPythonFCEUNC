{
 "cells": [
  {
   "cell_type": "markdown",
   "metadata": {},
   "source": [
    "### NOTA: Para un mejor seguimiento de esta clase, es recomendable abrirla desde Colab, siguiendo el botón de abajo\n",
    "\n",
    "<a href=\"https://colab.research.google.com/github/martinezarraigadamaria/IntroduccionProgramacionPythonFCEUNC/blob/master/ejerciciosResueltos/IntroProgPython_clase3_ejercicios.ipynb\" target=\"_parent\"><img src=\"https://colab.research.google.com/assets/colab-badge.svg\" alt=\"Open In Colab\"/></a>"
   ]
  },
  {
   "cell_type": "markdown",
   "metadata": {},
   "source": [
    "## **Ejercicio 1:** Listas\n",
    "\n",
    "1. Crear una lista con los números pares menores a 50.\n",
    "2. Crear un programa en el cual el usuario ingresa un *string* y dos índices numéricos. El programa debe crear una lista a partir de las letras del string, luego intercambiar dos letras de lugar a partir de los índices indicados por el usuario. Por último debe combinar las letras de la lista nuevamente en un *string* e imprimir el resultado. Si los índices son inválidos, mostrar un mensaje de error.\n",
    "\n",
    " **Tip**: El método [`str.join()`](https://docs.python.org/3/library/stdtypes.html#str.join) les puede ser de gran utilidad.\n",
    "\n",
    "3. Realizar un programa que ordena nombres alfabéticamente. Primero debe pedir al usuario que ingrese el número de nombres que serán ingresados, luego debe pedir al usuario que ingrese un nombre y repetir ese pedido la cantidad de veces indicada. Los nombres se deben ir agregando a una lista. Por último, ordenar la lista alfabéticamente y mostrar en pantalla de a uno por vez los nombres ordenados (usando un **`for`**).\n"
   ]
  },
  {
   "cell_type": "code",
   "execution_count": null,
   "metadata": {},
   "outputs": [],
   "source": []
  },
  {
   "cell_type": "markdown",
   "metadata": {},
   "source": [
    "## **Ejercicio 2:** Diccionarios\n",
    "\n",
    "1. Realizar un programa que pida al usuario un número de legajo y el nombre completo, luego lo guarde en un diccionario. En caso de que el número de legajo ya se encuentre en el diccionario, se debe mostrar un mensaje de advertencia.\n",
    "\n",
    "> Usar dos celdas de código, en una crear el diccionario, y en la otra agregar el nombre y legajo y mostrar el contenido total. La idea es que cuando se ejecute varias veces la segunda celda, se agregue un nuevo nombre y legajo a lo que ya había sido almacenado en el diccionario."
   ]
  },
  {
   "cell_type": "code",
   "execution_count": null,
   "metadata": {},
   "outputs": [],
   "source": [
    "# Celda 1\n",
    "# Ejecutar esta celda 1 vez para crear el diccionario vacío\n",
    "dic = {}\n",
    "print(dic)"
   ]
  },
  {
   "cell_type": "code",
   "execution_count": null,
   "metadata": {},
   "outputs": [],
   "source": [
    "# Celda 2\n",
    "# Ejecutar esta celda cada vez que se quiera agregar un elemento\n",
    "\n"
   ]
  },
  {
   "cell_type": "markdown",
   "metadata": {},
   "source": [
    "### **Ejercicio 3**: Sets\n",
    "\n",
    "1. Se cuentan con varios sets que contienen las personas que les gusta un cierto sabor de helado:\n",
    "\n",
    "```python\n",
    "vainilla = {\"Juan\", \"Marina\", \"Tomas\", \"Paula\"}\n",
    "chocolate = {\"Pedro\", \"Paula\", \"Marina\"}\n",
    "dulceDeLeche = {\"Juan\", \"Julian\", \"Pedro\", \"Marina\"}\n",
    "```\n",
    "\n",
    "> Responder usando operaciones de sets:\n",
    "\n",
    "- Hay alguna persona a la que le gusten todos los gustos?\n",
    "\n",
    "- Hay alguna persona a la que le gusten la vainilla y no el dulce de leche?\n",
    "\n",
    "- Cuántas personas distintas tenemos?"
   ]
  },
  {
   "cell_type": "code",
   "execution_count": null,
   "metadata": {},
   "outputs": [],
   "source": []
  },
  {
   "cell_type": "markdown",
   "metadata": {},
   "source": [
    "# Ejercicios Integradores"
   ]
  },
  {
   "cell_type": "markdown",
   "metadata": {},
   "source": [
    "## 1. Elecciones Presidenciales\n",
    "Realizar un programa en el cual se decida cual es el ganador de una **elección a presidente**. En el diccionario `candidatos` la **clave** es el nombre del candidato y el contenido (**valor**) la cantidad de votos.\n",
    "\n",
    "**TIP**: Usen `for`, `if` y variables auxiliares.\n",
    "\n",
    "Además, si el padrón electoral era de 5000000 de personas, ¿qué porcentaje del padrón emitió su voto?\n",
    "\n",
    "*Challenge*: Hacer que el programa anterior indique si debe haber **[ballotage](https://es.wikipedia.org/wiki/Segunda_vuelta_electoral)** (es decir, si el ganador obtuvo menos del 50%+1 de los votos). "
   ]
  },
  {
   "cell_type": "code",
   "execution_count": null,
   "metadata": {},
   "outputs": [],
   "source": [
    "candidatos = {\n",
    "    \"Gustavo Cerati\": 334453,\n",
    "    \"Mercedes Sosa\": 18445,\n",
    "    \"Carlos Indio Solari\": 1434444,\n",
    "    \"Fabiana Cantilo\": 312332,\n",
    "    \"Gustavo Cordera\": 5543,\n",
    "    \"Ricardo Mollo\": 1343343,\n",
    "    \"Gustavo Napoli\": 1232322,\n",
    "}\n",
    "\n",
    "for nombre, votos in candidatos.items():\n",
    "    print(nombre, \":\", votos)"
   ]
  },
  {
   "cell_type": "markdown",
   "metadata": {},
   "source": [
    "## 2. Análisis Estadístico de Fallas en Lotes de Producción\n",
    "\n",
    "Una planta de producción de botellas plásticas fabrica 1000 lotes de botellas por día. Debido al proceso de fabricación algunas de las botellas salen falladas, estos fallos son detectados automáticamente durante el proceso de control de calidad y se cargan en una base de datos que registra la cantidad de productos fallados que fueron detectados por cada lote. El departamento de control de calidad sospecha que la cantidad de fallos por lote sigue una distribución de *Poisson*, pero todavía no conocen la media y la varianza.\n",
    "\n",
    "La siguiente lista se obtuvo de la base de datos que contiene las fallas por lote y corresponde al recuento de fallas de los lotes del último día de operación:"
   ]
  },
  {
   "cell_type": "code",
   "execution_count": null,
   "metadata": {},
   "outputs": [],
   "source": [
    "fallas = [\n",
    "6, 3, 4, 6, 3, 4, 7, 3, 3, 7, 3, 4, 2, 5, 2, 3, 6, 7, 2, 4, 4, 4, 5, 2, 12, 5, 7, 4, 6, 1, 4, 6,\n",
    "7, 6, 2, 4, 8, 3, 1, 5, 5, 2, 5, 4, 6, 9, 3, 5, 4, 4, 1, 4, 10, 1, 2, 3, 8, 3, 5, 8, 3, 7, 5, 3,\n",
    "2, 4, 1, 0, 3, 3, 1, 1, 4, 1, 4, 3, 4, 4, 3, 3, 2, 5, 3, 8, 2, 1, 7, 5, 3, 4, 9, 8, 5, 2, 4, 4,\n",
    "5, 4, 3, 5, 4, 5, 3, 2, 3, 3, 5, 6, 2, 3, 0, 3, 7, 6, 2, 3, 4, 8, 1, 0, 3, 5, 3, 3, 3, 3, 2, 7,\n",
    "4, 4, 6, 6, 4, 4, 5, 5, 4, 5, 3, 2, 3, 7, 4, 9, 5, 3, 5, 2, 2, 5, 5, 7, 5, 3, 2, 5, 6, 6, 2, 6,\n",
    "2, 4, 3, 4, 3, 9, 4, 2, 3, 3, 3, 6, 5, 6, 3, 3, 2, 6, 4, 2, 5, 0, 3, 2, 4, 2, 5, 6, 6, 5, 7, 5,\n",
    "4, 4, 2, 7, 4, 3, 5, 2, 3, 3, 4, 5, 6, 6, 2, 5, 2, 5, 5, 6, 3, 3, 7, 2, 4, 2, 8, 5, 3, 4, 10, 7,\n",
    "2, 6, 7, 4, 3, 2, 3, 9, 4, 2, 5, 4, 3, 5, 6, 3, 4, 6, 2, 6, 5, 9, 2, 5, 4, 6, 5, 3, 5, 3, 3, 7,\n",
    "6, 4, 3, 6, 3, 3, 6, 5, 5, 2, 3, 5, 1, 4, 6, 5, 4, 2, 3, 8, 6, 3, 3, 7, 2, 5, 3, 6, 1, 5, 8, 6,\n",
    "1, 3, 7, 3, 9, 3, 3, 6, 3, 2, 5, 3, 4, 6, 5, 5, 5, 1, 2, 1, 5, 3, 4, 3, 8, 2, 8, 7, 0, 1, 1, 1,\n",
    "3, 4, 3, 3, 2, 5, 5, 4, 7, 3, 4, 4, 3, 5, 3, 5, 3, 8, 2, 7, 3, 3, 3, 3, 7, 6, 4, 3, 4, 7, 3, 5,\n",
    "4, 2, 3, 5, 6, 4, 2, 3, 4, 4, 4, 4, 5, 3, 1, 10, 2, 5, 3, 4, 7, 9, 8, 4, 4, 5, 2, 2, 2, 3, 2, 7,\n",
    "6, 4, 4, 6, 3, 2, 4, 3, 3, 7, 9, 1, 1, 2, 7, 5, 4, 3, 5, 4, 2, 5, 3, 8, 6, 2, 2, 2, 5, 3, 3, 4,\n",
    "4, 5, 2, 3, 3, 5, 2, 2, 4, 7, 4, 4, 5, 5, 4, 1, 5, 4, 3, 2, 2, 3, 4, 1, 9, 2, 7, 4, 3, 4, 7, 5,\n",
    "2, 5, 5, 4, 2, 4, 5, 4, 5, 7, 4, 3, 4, 7, 4, 1, 3, 4, 3, 6, 6, 2, 10, 6, 6, 5, 1, 6, 8, 7, 4, 7,\n",
    "6, 2, 3, 3, 1, 5, 10, 7, 5, 3, 6, 7, 7, 5, 2, 0, 2, 7, 2, 4, 6, 3, 5, 1, 1, 6, 4, 7, 6, 7, 5, 2,\n",
    "0, 2, 5, 3, 3, 6, 2, 2, 5, 4, 4, 6, 8, 6, 6, 1, 0, 6, 3, 3, 5, 6, 4, 4, 2, 6, 5, 6, 4, 5, 4, 2,\n",
    "5, 6, 3, 4, 4, 7, 3, 6, 1, 1, 2, 5, 6, 3, 2, 4, 4, 3, 5, 5, 4, 8, 6, 7, 4, 6, 4, 3, 3, 4, 1, 5,\n",
    "4, 3, 7, 3, 6, 5, 3, 3, 7, 2, 4, 5, 8, 6, 4, 7, 3, 3, 0, 1, 2, 2, 2, 3, 6, 2, 4, 5, 5, 7, 3, 3,\n",
    "6, 0, 9, 3, 4, 3, 4, 5, 2, 3, 4, 5, 7, 6, 2, 3, 3, 4, 1, 9, 5, 6, 5, 4, 1, 6, 2, 6, 7, 3, 1, 4,\n",
    "4, 1, 2, 5, 9, 11, 0, 2, 4, 6, 4, 3, 3, 4, 3, 3, 4, 3, 4, 4, 1, 3, 3, 4, 4, 8, 1, 2, 2, 2, 5, 6,\n",
    "1, 6, 6, 3, 9, 4, 7, 3, 1, 3, 2, 7, 5, 2, 2, 2, 2, 4, 1, 4, 7, 5, 2, 1, 4, 4, 3, 2, 2, 5, 2, 6,\n",
    "3, 4, 5, 9, 4, 5, 5, 9, 4, 5, 8, 6, 4, 4, 8, 6, 1, 4, 4, 1, 7, 7, 4, 2, 3, 1, 5, 4, 4, 6, 5, 5,\n",
    "7, 3, 3, 3, 2, 5, 1, 2, 3, 1, 3, 7, 4, 4, 4, 2, 9, 5, 6, 3, 5, 2, 3, 8, 4, 9, 4, 5, 3, 3, 5, 1,\n",
    "7, 7, 3, 7, 7, 3, 2, 4, 3, 7, 2, 8, 2, 5, 1, 5, 6, 3, 2, 3, 6, 2, 4, 6, 2, 6, 2, 10, 1, 5, 3, 4,\n",
    "4, 6, 2, 8, 0, 5, 4, 1, 4, 5, 7, 4, 9, 3, 5, 3, 2, 6, 5, 3, 7, 6, 2, 6, 4, 6, 5, 3, 7, 4, 5, 6,\n",
    "5, 3, 5, 8, 9, 2, 6, 1, 3, 4, 3, 3, 6, 4, 0, 5, 5, 1, 5, 3, 7, 5, 6, 7, 3, 3, 8, 2, 4, 4, 4, 5,\n",
    "4, 3, 2, 3, 9, 6, 0, 6, 5, 0, 4, 3, 4, 5, 5, 6, 6, 4, 6, 1, 2, 4, 6, 3, 8, 2, 5, 6, 8, 5, 4, 3,\n",
    "9, 3, 8, 4, 6, 8, 3, 3, 4, 7, 4, 3, 6, 3, 7, 5, 1, 6, 4, 3, 2, 4, 6, 2, 2, 4, 1, 3, 3, 3, 2, 2,\n",
    "3, 6, 2, 2, 3, 1, 2, 7, 1, 3, 2, 5, 8, 5, 4, 9, 9, 3, 4, 2, 5, 4, 7, 4, 2, 4, 3, 9, 9, 5, 4, 4,\n",
    "4, 4, 2, 7, 3, 6, 7, 3, 4, 4, 9, 5, 7, 6, 5, 4, 1, 4, 2, 2, 8, 5, 4, 4, 3, 6, 3, 4, 3, 2, 3, 4,\n",
    "3, 4, 2, 3, 6, 1, 2, 2,]"
   ]
  },
  {
   "cell_type": "markdown",
   "metadata": {},
   "source": [
    "A partir de estos datos, calcular la *media*, la *varianza*, la *moda* y la *mediana* de la distribución de datos medidos (sin utilizar librerías de estadística).\n",
    "\n",
    "**Definiciones:**\n",
    "- **Media:** El valor promedio:\n",
    "\n",
    "  $\\mu=\\frac{X_1+X_2+X_3+\\cdots+X_n}{n}$\n",
    "\n",
    "- **Varianza:** El promedio de las distancias al cuadrado entre cada valor y la media:\n",
    "\n",
    "  $\\sigma^2=\\frac{(X_1-\\mu)^2+(X_2-\\mu)^2+\\cdots+(X_n-\\mu)^2}{n}$\n",
    "\n",
    "- **Moda:** El valor que ocurre con mayor frecuencia.\n",
    "\n",
    "- **Mediana:** El valor que cumple la propiedad que la mitad de las veces el valor medido es menor a la mediana y la otra mitad de las veces es mayor.\n",
    "\n",
    "Si las sospechas acerca de la distribución fueran correctas, entonces de acuerdo a las propiedades de la distribución de Poisson la media y la varianza deberían ser iguales, además la moda sería $\\lceil{\\mu}\\rceil-1$\n",
    "¿Esta sospecha les parece acertada?\n",
    "\n",
    "*Nota: Usando las librerías numpy y scipy se pueden realizar todo tipo de análisis de estadística sin tener que programar todo a mano! Este es sólo un ejercicio para practicar la manipulación de datos.*"
   ]
  },
  {
   "cell_type": "code",
   "execution_count": null,
   "metadata": {},
   "outputs": [],
   "source": []
  }
 ],
 "metadata": {
  "kernelspec": {
   "display_name": "Python 3",
   "language": "python",
   "name": "python3"
  },
  "language_info": {
   "codemirror_mode": {
    "name": "ipython",
    "version": 3
   },
   "file_extension": ".py",
   "mimetype": "text/x-python",
   "name": "python",
   "nbconvert_exporter": "python",
   "pygments_lexer": "ipython3",
   "version": "3.7.6"
  }
 },
 "nbformat": 4,
 "nbformat_minor": 4
}
