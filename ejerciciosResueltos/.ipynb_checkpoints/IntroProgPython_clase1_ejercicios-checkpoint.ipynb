{
 "cells": [
  {
   "cell_type": "markdown",
   "metadata": {},
   "source": [
    "## ¡Para un mejor seguimiento de la clase, es recomendable abrirla desde Colab, siguiendo el botón de abajo!\n",
    "\n",
    "<a href=\"https://colab.research.google.com/github/martinezarraigadamaria/IntroduccionProgramacionPythonFCEUNC/blob/master/ejerciciosResueltos/IntroProgPython_clase1_ejercicios.ipynb\" target=\"_parent\"><img src=\"https://colab.research.google.com/assets/colab-badge.svg\" alt=\"Open In Colab\"/></a>"
   ]
  },
  {
   "cell_type": "markdown",
   "metadata": {},
   "source": [
    "En este notebook encontrarán una **posible** resolución de los ejercicios correspondientes a la clase 1. Los ejercicios serán resueltos con las herramientas vistas hasta el momento de su presentación."
   ]
  },
  {
   "cell_type": "markdown",
   "metadata": {},
   "source": [
    "#### **Ejercicio 1:** Operadores\n",
    "\n",
    "1. Diseñar un programa en el cual el usuario ingrese tres números, uno a la vez, y se muestre como salida tanto el promedio como la [media geométrica](https://es.wikipedia.org/wiki/Media_geom%C3%A9trica) de los tres números.\n",
    "\n",
    "2. Diseñar un programa en el cual el usuario ingrese, para dos productos diferentes, el precio unitario del producto y la cantidad que desea comprar del mismo, y se muestre como salida el total de la factura."
   ]
  },
  {
   "cell_type": "code",
   "execution_count": 1,
   "metadata": {},
   "outputs": [
    {
     "name": "stdout",
     "output_type": "stream",
     "text": [
      "Ingrese el primer número: 1\n",
      "Ingrese el segundo número: 2\n",
      "Ingrese el tercer número: 3\n",
      "El promedio de los números es 2.0 y su media geométrica es 1.8171205928321397\n"
     ]
    }
   ],
   "source": [
    "# Código Ejercicio 1 Apartado 1\n",
    "\n",
    "# Pedimos al usuario que ingrese 3 números\n",
    "numero1 = int(input(\"Ingrese el primer número: \"))\n",
    "numero2 = int(input(\"Ingrese el segundo número: \"))\n",
    "numero3 = int(input(\"Ingrese el tercer número: \"))\n",
    "\n",
    "# Calculamos el promedio\n",
    "promedio = (numero1 + numero2 + numero3)/3\n",
    "\n",
    "# Calculamos la media geometrica\n",
    "media_geometrica = (numero1 * numero2 * numero3)**(1/3)\n",
    "\n",
    "print(f\"El promedio de los números es {promedio} y su media geométrica es {media_geometrica}\")"
   ]
  },
  {
   "cell_type": "code",
   "execution_count": 4,
   "metadata": {},
   "outputs": [
    {
     "name": "stdout",
     "output_type": "stream",
     "text": [
      "Ingrese el precio del primer producto: 1\n",
      "Ingrese la cantidad que desea comprar del primer producto: 2\n",
      "Ingrese el precio del segundo producto: 2\n",
      "Ingrese la cantidad que desea comprar del segundo producto: 3\n",
      "El total de la factura es de 8.\n"
     ]
    }
   ],
   "source": [
    "# Código Ejercicio 1 Apartado 2\n",
    "\n",
    "# Pedimos que el usuario ingrese el precio y cantidad del primer producto\n",
    "precio_producto_1 = int(input(\"Ingrese el precio del primer producto: \"))\n",
    "cantidad_producto_1 = int(input(\"Ingrese la cantidad que desea comprar del primer producto: \"))\n",
    "\n",
    "# Pedimos que el usuario ingrese el precio y cantidad del segundo producto\n",
    "precio_producto_2 = int(input(\"Ingrese el precio del segundo producto: \"))\n",
    "cantidad_producto_2 = int(input(\"Ingrese la cantidad que desea comprar del segundo producto: \"))\n",
    "\n",
    "# Calculamos el monto total\n",
    "total_factura = precio_producto_1 * cantidad_producto_1 + precio_producto_2 * cantidad_producto_2 \n",
    "\n",
    "print(f\"El total de la factura es de {total_factura}.\")"
   ]
  },
  {
   "cell_type": "markdown",
   "metadata": {},
   "source": [
    "#### **Ejercicio 2:** Módulo y Cociente Entero\n",
    "\n",
    "1. Diseñar un programa en el cual el usuario ingrese un número, y se muestre como salida un texto que indique si el número es par o impar.\n",
    "\n",
    "2. Una línea de producción tiene la capacidad de hacer 12 cuadernos por minuto. Sin embargo, la capacidad logística diaria permite manipular solo hasta 10000 cuadernos por día. Elaborar un programa que ayude a determinar a qué hora debería frenarse la línea de producción para evitar problemas logísticos, dado que el usuario ingresa la hora a la que comienza a producir la línea (0-24 hs)."
   ]
  },
  {
   "cell_type": "code",
   "execution_count": 7,
   "metadata": {},
   "outputs": [
    {
     "name": "stdout",
     "output_type": "stream",
     "text": [
      "Ingrese un número: 2\n",
      "¿El número 2 es par? True\n"
     ]
    }
   ],
   "source": [
    "# Código Ejercicio 2 Apartado 1\n",
    "\n",
    "# Pedimos al usuario que ingrese un número\n",
    "numero = int(input(\"Ingrese un número: \"))\n",
    "\n",
    "# Utilizamos el operador módulo (%) para calcular el resto de la división del número ingresado por 2\n",
    "print(f\"¿El número {numero} es par?\", numero%2 == 0)"
   ]
  },
  {
   "cell_type": "code",
   "execution_count": null,
   "metadata": {},
   "outputs": [],
   "source": [
    "# Código Ejercicio 2 Apartado 2\n",
    "\n",
    "hora_inicio = int(input(\"Ingrese una hora de inicio (entre 0 y 24): \"))\n",
    "horas_de_produccion = (10000 / 12) // 60 + 1 # sumamos 1 para asegurar que vamos a estar listos a esa hora\n",
    "print(\"Nos va a tomar\", horas_de_produccion, \" horas fabricar los cuadernos necesarios\")\n",
    "hora_finalizacion = (hora_inicio + horas_de_produccion) % 24\n",
    "print(\"Vamos a terminar producción a las \", hora_finalizacion)"
   ]
  },
  {
   "cell_type": "markdown",
   "metadata": {},
   "source": [
    "#### **Ejercicio 3:** Comparaciones\n",
    "\n",
    "1. Diseñar un programa en el cual el usuario ingrese dos veces un número, y se muestre como salida un texto que indique si el primer número es mayor, igual o menor al segundo número ingresado.\n",
    "\n",
    "2. El horario de atención de un local comercial es de 10 a 13 y de 16 a 20 horas. Elaborar un programa que reciba como input la hora a la que arriba un cliente y que devuelva como salida si el local se encuentra abierto o cerrado."
   ]
  },
  {
   "cell_type": "code",
   "execution_count": 9,
   "metadata": {},
   "outputs": [
    {
     "name": "stdout",
     "output_type": "stream",
     "text": [
      "Ingrese el primer número: 2\n",
      "Ingrese el segundo número: 3\n",
      "¿El primer número es mayor al segundo? False\n",
      "¿El primer número es menor al segundo? True\n",
      "¿El primer número es igual al segundo? False\n"
     ]
    }
   ],
   "source": [
    "# Código Ejercicio 3 Apartado 1\n",
    "\n",
    "# Pedimos al usuario que ingrese un número\n",
    "numero1 = int(input(\"Ingrese el primer número: \"))\n",
    "numero2 = int(input(\"Ingrese el segundo número: \"))\n",
    "\n",
    "# Utilizamos las operaciones de comparación\n",
    "print(\"¿El primer número es mayor al segundo?\" , numero1 > numero2)\n",
    "print(\"¿El primer número es menor al segundo?\" , numero1 < numero2)\n",
    "print(\"¿El primer número es igual al segundo?\" , numero1 == numero2)"
   ]
  },
  {
   "cell_type": "code",
   "execution_count": 12,
   "metadata": {},
   "outputs": [
    {
     "name": "stdout",
     "output_type": "stream",
     "text": [
      "Hora de ingreso del cliente: 24\n",
      "¿El local está abierto? False\n"
     ]
    }
   ],
   "source": [
    "# Código Ejercicio 3 Apartado 2\n",
    "\n",
    "# Pedimos al usuario que ingrese una hora (deberá ingresar un número entero)\n",
    "hora_de_ingreso_cliente = int(input(\"Hora de ingreso del cliente: \"))\n",
    "\n",
    "#\n",
    "local_abierto = (10<= hora_de_ingreso_cliente <=13) or (16<= hora_de_ingreso_cliente <=20)  \n",
    "\n",
    "print(\"¿El local está abierto?\", local_abierto)"
   ]
  },
  {
   "cell_type": "markdown",
   "metadata": {},
   "source": [
    "# Ejercicios Integradores"
   ]
  },
  {
   "cell_type": "markdown",
   "metadata": {},
   "source": [
    "## Cálculo de Promedio \n",
    "Cálcular la nota de un alumno es una tarea cotidiana de un profesor. Esta tarea suele realizarse a mano o en excel muchas veces. En esta ocasión la haremos en python. \n",
    "- Pedir 3 veces que se ingrese una nota e imprimir en pantalla el promedio de las mismas.\n",
    "- Hacer lo mismo, pero asignar una importancia al primer examen de 20%, al segundo de 50% y al tercero de 30%.\n",
    "- Además, imprimir en pantalla `True` si la nota es mayor o igual que 4. Caso contrario, imprimir `False`."
   ]
  },
  {
   "cell_type": "code",
   "execution_count": 21,
   "metadata": {},
   "outputs": [
    {
     "name": "stdout",
     "output_type": "stream",
     "text": [
      "Ingrese la primera nota: 5\n",
      "Ingrese la segunda nota: 10\n",
      "Ingrese la tercera nota: 1\n",
      "\n",
      "El promedio de las notas es de 5.333333333333333.\n",
      "El promedio ponderado de las notas es de 6.3.\n",
      "\n",
      "¿La primer nota es mayor a 4? True\n",
      "¿La segunda nota es mayor a 4? True\n",
      "¿La tercer nota es mayor a 4? False\n"
     ]
    }
   ],
   "source": [
    "# Pedimos al usuario que ingrese las 3 notas, una a la vez\n",
    "nota1 = int(input(\"Ingrese la primera nota: \"))\n",
    "nota2 = int(input(\"Ingrese la segunda nota: \"))\n",
    "nota3 = int(input(\"Ingrese la tercera nota: \"))\n",
    "\n",
    "# Calculamos el promedio\n",
    "promedio = (nota1 + nota2 + nota3)/3\n",
    "\n",
    "#Calculamos un promedio ponderado de pesos .2, .5 y .3\n",
    "promedio_ponderado = .2 * nota1 + .5 * nota2 + .3 * nota3\n",
    "\n",
    "print() \n",
    "print(f\"El promedio de las notas es de {promedio}.\")\n",
    "print(f\"El promedio ponderado de las notas es de {promedio_ponderado}.\")\n",
    "print()\n",
    "print(\"¿La primer nota es mayor a 4?\", nota1 >= 4)\n",
    "print(\"¿La segunda nota es mayor a 4?\", nota2 >= 4)\n",
    "print(\"¿La tercer nota es mayor a 4?\", nota3 >= 4)"
   ]
  },
  {
   "cell_type": "code",
   "execution_count": null,
   "metadata": {},
   "outputs": [],
   "source": []
  }
 ],
 "metadata": {
  "kernelspec": {
   "display_name": "Python 3",
   "language": "python",
   "name": "python3"
  },
  "language_info": {
   "codemirror_mode": {
    "name": "ipython",
    "version": 3
   },
   "file_extension": ".py",
   "mimetype": "text/x-python",
   "name": "python",
   "nbconvert_exporter": "python",
   "pygments_lexer": "ipython3",
   "version": "3.7.6"
  }
 },
 "nbformat": 4,
 "nbformat_minor": 4
}
